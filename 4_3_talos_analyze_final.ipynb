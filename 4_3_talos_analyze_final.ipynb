{
 "cells": [
  {
   "cell_type": "code",
   "execution_count": null,
   "metadata": {},
   "outputs": [],
   "source": [
    "import pandas as pd\r\n",
    "import io\r\n",
    "from matplotlib import pyplot as plt\r\n",
    "import numpy as np\r\n",
    "import seaborn as sns\r\n",
    "from pathlib import Path\r\n",
    "import pandas as pd\r\n",
    "import seaborn as sn\r\n",
    "import matplotlib.pyplot as plt\r\n",
    "\r\n",
    "pd.options.display.max_columns = None\r\n"
   ]
  },
  {
   "cell_type": "code",
   "execution_count": null,
   "metadata": {},
   "outputs": [],
   "source": [
    "csv_paths = [\n",
    "    \"baseline_out.csv\",\n",
    "    \"final_out.csv\",\n",
    "    \"transfer_out.csv\"\n",
    "]\n",
    "\n",
    "# csv_paths = [Path('talos/final', path) for path in csv_paths]\n",
    "\n",
    "df = pd.DataFrame([])\n",
    "for path in csv_paths:\n",
    "    with open(path, 'r') as fi:\n",
    "        data = fi.read().replace('(', '\"').replace(')', '\"')\n",
    "        df = pd.concat([df, pd.read_csv(io.StringIO(data))])\n",
    "\n",
    "df['input_shape'] = df['input_shape'].str.replace(',', '')\n",
    "df\n",
    "\n",
    "# exclude = ['round_epochs', 'loss', 'acc', 'f1score', 'val_loss', 'val_acc', 'val_f1score']\n",
    "# include = list(set(df.columns) - set(exclude))\n",
    "# df = df.drop_duplicates(subset=include)\n",
    "\n",
    "## Create difference between train and validation for loss and accuracy \n",
    "df.insert(7, 'train_val_loss_diff', df['val_loss'].astype(float) - df['loss'])\n",
    "df.insert(8, 'train_val_acc_diff', df['val_acc'].astype(float) - df['acc'])\n",
    "df.insert(9, 'train_val_f1score_diff', df['val_f1score'].astype(float) - df['f1score'])\n",
    "\n",
    "## Remove all columns with only single value\n",
    "for col in df.columns:\n",
    "    if len(df[col].unique()) == 1:\n",
    "        df.drop(col, inplace=True, axis=1)\n",
    "\n",
    "df = df.sort_values('val_f1score', ascending=False)\n",
    "df"
   ]
  },
  {
   "cell_type": "code",
   "execution_count": null,
   "metadata": {},
   "outputs": [],
   "source": [
    "def print_boxplots(df,param):\n",
    "    fig, axes = plt.subplots(3, 3, figsize=(18, 10))\n",
    "    fig.suptitle(f'Stats for: {param}')\n",
    "\n",
    "    sns.boxplot(ax=axes[0, 0], data=df, x=param, y='acc')\n",
    "    sns.boxplot(ax=axes[1, 0], data=df, x=param, y='val_acc')\n",
    "    sns.boxplot(ax=axes[2, 0], data=df, x=param, y='train_val_acc_diff')\n",
    "    sns.boxplot(ax=axes[0, 1], data=df, x=param, y='loss')\n",
    "    sns.boxplot(ax=axes[1, 1], data=df, x=param, y='val_loss')\n",
    "    sns.boxplot(ax=axes[2, 1], data=df, x=param, y='train_val_loss_diff')\n",
    "    sns.boxplot(ax=axes[0, 2], data=df, x=param, y='f1score')\n",
    "    sns.boxplot(ax=axes[1, 2], data=df, x=param, y='val_f1score')\n",
    "    sns.boxplot(ax=axes[2, 2], data=df, x=param, y='train_val_f1score_diff')\n",
    "    return \n",
    "\n",
    "exclude = ['round_epochs', 'loss', 'acc', 'f1score', 'val_loss', 'val_acc', 'val_f1score', 'train_val_loss_diff', 'train_val_acc_diff', \"train_val_f1score_diff\"]\n",
    "boxplot_columns = [column for column in df.columns if column not in exclude ] \n",
    "for var in boxplot_columns:\n",
    "    print_boxplots(df,var)"
   ]
  },
  {
   "cell_type": "code",
   "execution_count": null,
   "metadata": {},
   "outputs": [],
   "source": [
    "df_num = df.drop(columns=['input_shape'])\n",
    "\n",
    "left = ['round_epochs', 'loss', 'acc', 'f1score', 'val_loss', 'val_acc', 'val_f1score', 'train_val_loss_diff', 'train_val_acc_diff', \"train_val_f1score_diff\"]\n",
    "bottom = list(set(df_num.columns) - set(left))\n",
    "\n",
    "fig, ax = plt.subplots(figsize=(8,8))\n",
    "corrMatrix = df_num.corr()\n",
    "# print(corrMatrix)\n",
    "corrMatrix = corrMatrix.drop(labels=left, axis=1)\n",
    "corrMatrix = corrMatrix.drop(labels=bottom, axis=0)\n",
    "sn.heatmap(corrMatrix, annot=True)\n",
    "plt.show()"
   ]
  }
 ],
 "metadata": {
  "interpreter": {
   "hash": "86a08859f46087af4c4e074af73530229dd7d8037ffe099cb063a6850e6813df"
  },
  "kernelspec": {
   "display_name": "Python 3.7.10 64-bit ('python37': conda)",
   "name": "python3"
  },
  "language_info": {
   "name": "python",
   "version": ""
  }
 },
 "nbformat": 4,
 "nbformat_minor": 4
}