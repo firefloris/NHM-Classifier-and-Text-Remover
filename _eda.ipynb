{
 "cells": [
  {
   "cell_type": "code",
   "execution_count": null,
   "metadata": {},
   "outputs": [],
   "source": [
    "import os\r\n",
    "import re\r\n",
    "\r\n",
    "import matplotlib.pyplot as plt\r\n",
    "import pandas as pd\r\n",
    "from PIL import Image\r\n",
    "\r\n",
    "%matplotlib inline\r\n",
    "\r\n",
    "dataset_dir = 'c:/Users/flori/download'\r\n",
    "pd.set_option('display.max_rows', 50)\r\n",
    "os.chdir('c:/Users/flori/OneDrive/Documents/Uni/8_Master_thesis/code')\r\n",
    "pd.set_option('display.max_columns', None)"
   ]
  },
  {
   "cell_type": "markdown",
   "metadata": {},
   "source": [
    "# Load files\n",
    "## occurrence.csv"
   ]
  },
  {
   "cell_type": "code",
   "execution_count": null,
   "metadata": {},
   "outputs": [],
   "source": [
    "occurrence = pd.read_csv('datasets/occurrence.csv', sep=',')\n",
    "print(occurrence.shape)\n",
    "print(occurrence['_id'].unique().shape)\n",
    "occurrence.head(1)"
   ]
  },
  {
   "cell_type": "markdown",
   "metadata": {},
   "source": [
    "## multimedia.csv"
   ]
  },
  {
   "cell_type": "code",
   "execution_count": null,
   "metadata": {},
   "outputs": [],
   "source": [
    "multimedia = pd.read_csv('datasets/multimedia.csv', sep=',')\n",
    "print(multimedia.shape)\n",
    "print(multimedia['_id'].unique().shape)\n",
    "multimedia.head(1)"
   ]
  },
  {
   "cell_type": "markdown",
   "metadata": {},
   "source": [
    "## dataset.csv"
   ]
  },
  {
   "cell_type": "code",
   "execution_count": null,
   "metadata": {},
   "outputs": [],
   "source": [
    "ds = pd.read_csv('datasets/dataset.csv', sep=',', encoding='ISO-8859-1')\n",
    "print(ds.shape)\n",
    "print(ds['id'].unique().shape)\n",
    "ds.head(1)\n"
   ]
  },
  {
   "cell_type": "markdown",
   "metadata": {},
   "source": [
    "# Analyse data\n",
    "## Create label list"
   ]
  },
  {
   "cell_type": "code",
   "execution_count": null,
   "metadata": {
    "tags": []
   },
   "outputs": [],
   "source": [
    "pd.set_option('display.max_rows', 50)\n",
    "\n",
    "def extract_tags_count(df_column):\n",
    "    tags = {}\n",
    "    for i, line in enumerate(list(df_column)):\n",
    "        if isinstance(line, str):\n",
    "            for tag in re.split(r'\\_| |-|\\.|\\(|\\)|\\#|\\,|\\:', line): ## split on different seperators\n",
    "                if tag.isnumeric() == False and tag != '':\n",
    "                    tag = re.sub(r'[0-9]+', '#', tag).lower() ## replace all numbers in a tag with a hashtag and make all text lower\n",
    "                    if tag not in tags:\n",
    "                        tags[tag] = 1\n",
    "                    else:\n",
    "                        tags[tag] += 1\n",
    "    return tags"
   ]
  },
  {
   "cell_type": "code",
   "execution_count": null,
   "metadata": {},
   "outputs": [],
   "source": [
    "multimedia_tags = extract_tags_count(multimedia.title)\n",
    "multimedia_tags = pd.DataFrame.from_dict(multimedia_tags, orient='index', columns=['count'])\n",
    "multimedia_tags = multimedia_tags.sort_values(by='count', ascending=False)\n",
    "# multimedia_tags.head(10)"
   ]
  },
  {
   "cell_type": "code",
   "execution_count": null,
   "metadata": {},
   "outputs": [],
   "source": [
    "dataset_tags = extract_tags_count(ds.file_description)\n",
    "dataset_tags = pd.DataFrame.from_dict(dataset_tags, orient='index', columns=['count'])\n",
    "dataset_tags = dataset_tags.sort_values(by='count', ascending=False)\n",
    "# dataset_tags.head(10)"
   ]
  },
  {
   "cell_type": "code",
   "execution_count": null,
   "metadata": {},
   "outputs": [],
   "source": [
    "merged = pd.merge(dataset_tags, multimedia_tags, left_index=True, right_index=True, suffixes=['_dataset', '_multimedia'])\n",
    "merged.head(10)\n",
    "# merged.to_csv('datasets/tags.csv')"
   ]
  },
  {
   "cell_type": "code",
   "execution_count": null,
   "metadata": {},
   "outputs": [],
   "source": [
    "multimedia_tags_subset = multimedia_tags.drop(['bmnhe', 'nhmuk', 'bmnh'])\n",
    "multimedia_tags_head = multimedia_tags_subset.head(20)\n",
    "multimedia_tags_head.plot(kind='bar', y='count', figsize=(8,3))\n",
    "plt.tight_layout()\n",
    "plt.savefig('plots/label_bar_plot.pdf')\n",
    "plt.show()"
   ]
  },
  {
   "cell_type": "markdown",
   "metadata": {},
   "source": [
    "## Check the image sizes"
   ]
  },
  {
   "cell_type": "code",
   "execution_count": null,
   "metadata": {
    "tags": []
   },
   "outputs": [],
   "source": [
    "sizes = []\n",
    "sizes_all_landscape = []\n",
    "for i, image_filename in enumerate(ds.filename):\n",
    "    if i % 10000 == 0: print(i)\n",
    "    # if i > 1000: break\n",
    "    try:\n",
    "        im = Image.open(dataset_dir + '/' + image_filename)\n",
    "        width, height = im.size\n",
    "        sizes.append([width, height])\n",
    "        if width < height:\n",
    "            sizes_all_landscape.append([height, width])\n",
    "        else:\n",
    "            sizes_all_landscape.append([width, height])\n",
    "    except Exception as e:\n",
    "        print(e)\n",
    "\n",
    "\n",
    "sizes_df = pd.DataFrame(sizes, columns=['width', 'heigth'])\n",
    "sizes_df.to_csv('datasets/sizes.csv')\n",
    "print(sizes_df.value_counts())\n"
   ]
  },
  {
   "cell_type": "code",
   "execution_count": null,
   "metadata": {},
   "outputs": [],
   "source": [
    "fig1, ax1 = plt.subplots(figsize=(8,3))\n",
    "ax1.boxplot(sizes_df, labels=['width [px]', 'height [px]'])\n",
    "plt.tight_layout()\n",
    "plt.savefig('plots/boxplot_image_dim.pdf')"
   ]
  },
  {
   "cell_type": "code",
   "execution_count": null,
   "metadata": {},
   "outputs": [],
   "source": [
    "sizes_all_landscape_df = pd.DataFrame(sizes_all_landscape, columns=['width', 'heigth'])\n",
    "fig1, ax1, = plt.subplots()\n",
    "ax1.boxplot(sizes_all_landscape_df)"
   ]
  },
  {
   "cell_type": "markdown",
   "metadata": {},
   "source": [
    "## Check amount of images in per specimen"
   ]
  },
  {
   "cell_type": "code",
   "execution_count": null,
   "metadata": {},
   "outputs": [],
   "source": [
    "from pprint import pprint\n",
    "\n",
    "exclude_tags = ['', 'jpg', 'bmnhe', 'bmnh']\n",
    "\n",
    "def extract_tags(filenames, subset=None, droplast=False):\n",
    "    dataset = {} \n",
    "    ## Loop over each filename\n",
    "    for i, filename in enumerate(list(filenames)):\n",
    "        ## Temporarly subset the dataset\n",
    "        if subset != None and i > subset: break\n",
    "        ## Check if the filename exists\n",
    "        if isinstance(filename, str):\n",
    "            tags = []\n",
    "            ## Loop over each tag in the filename\n",
    "            for j, tag in enumerate(re.split(r'\\_| |-|\\.|\\(|\\)|\\#|\\,|\\:', filename)): ## split on different seperators\n",
    "                ## The first tag is the id of the specimen\n",
    "                if j == 0: _id = int(tag)\n",
    "                ## Check if the other tags aren't numbers, or in the exclude_tags var\n",
    "                if tag.isnumeric() == False and tag.lower() not in exclude_tags:\n",
    "                    tag = re.sub(r'[0-9]+', '#', tag).lower() ## replace all numbers in a tag with a hashtag and make all text lower\n",
    "                    tags.append(tag)\n",
    "        \n",
    "        ## Append the filename and tags to the dictionary\n",
    "        if _id not in dataset:\n",
    "            dataset[_id] = {'files': []}\n",
    "        dataset[_id]['files'].append([filename, tags])\n",
    "\n",
    "    ## Exclude the last group just to be sure no files are forgotten in the count when subsetting the data\n",
    "    if droplast: del dataset[_id]\n",
    "    ## Add a filecount to every ID\n",
    "    for _id in dataset:\n",
    "        dataset[_id]['file_count'] = len(dataset[_id]['files']) \n",
    "    return dataset\n",
    "\n",
    "multimedia['filename'] = multimedia['_id'].astype(str) + '_' + multimedia['title'].astype(str)\n",
    "multimedia_dict = extract_tags(multimedia.filename, droplast=False)"
   ]
  },
  {
   "cell_type": "code",
   "execution_count": null,
   "metadata": {},
   "outputs": [],
   "source": [
    "## Sanity check\n",
    "print('Original count:', len(list(multimedia.filename)))\n",
    "print('Output count:',sum([multimedia_dict[_id]['file_count'] for _id in multimedia_dict]))\n",
    "print(\"Counts may differ a bit as the last specimen doesn't get include due to the group being cut off\")"
   ]
  },
  {
   "cell_type": "code",
   "execution_count": null,
   "metadata": {
    "tags": []
   },
   "outputs": [],
   "source": [
    "pict_per_group = []\n",
    "for i, _id in enumerate(multimedia_dict):\n",
    "    pict_per_group.append(multimedia_dict[_id]['file_count'])"
   ]
  },
  {
   "cell_type": "code",
   "execution_count": null,
   "metadata": {},
   "outputs": [],
   "source": [
    "freq_table = pd.Series(pict_per_group).value_counts(sort=False)\n",
    "freq_table"
   ]
  },
  {
   "cell_type": "code",
   "execution_count": null,
   "metadata": {},
   "outputs": [],
   "source": [
    "print('1', freq_table.take([0]))\r\n",
    "print('2', freq_table.take([1]))\r\n",
    "print('rest', sum(freq_table.take(list(range(2,31)))))\r\n",
    "print(sum(freq_table))"
   ]
  },
  {
   "cell_type": "markdown",
   "metadata": {},
   "source": [
    "## Image dimensions"
   ]
  },
  {
   "cell_type": "code",
   "execution_count": null,
   "metadata": {},
   "outputs": [],
   "source": [
    "import numpy as np\n",
    "fig1, ax1 = plt.subplots(figsize=(15,4))\n",
    "freq, bins, patches = ax1.hist(pict_per_group, bins=list(range(max(pict_per_group))), log=True, )\n",
    "plt.xticks(list(range(max(pict_per_group))))\n",
    "plt.xlabel('Amount of pictures (log)')\n",
    "plt.ylabel('Amount of pictures in group')\n",
    "ax1.set_xticklabels(list(range(max(pict_per_group))), rotation='horizontal')\n",
    "# plt.tight_layout()\n",
    "\n",
    "# x coordinate for labels\n",
    "bin_centers = np.diff(bins)*0.5 + bins[:-1]\n",
    "\n",
    "n = 0\n",
    "for fr, x, patch in zip(freq, bin_centers, patches):\n",
    "  height = int(freq[n])\n",
    "  plt.annotate(\"{}\".format(height),\n",
    "               xy = (x, height),        \n",
    "               xytext = (0,0.2),     \n",
    "               textcoords = \"offset points\",\n",
    "               ha = 'center', rotation=45\n",
    "               )\n",
    "  n = n+1\n",
    "\n",
    "# plt.savefig('plots/boxplot_image_dim.pdf')"
   ]
  },
  {
   "cell_type": "code",
   "execution_count": null,
   "metadata": {},
   "outputs": [],
   "source": [
    "from PIL import Image\n",
    "\n",
    "dataset_dir = Path('c:/Users/flori/download/subset')\n",
    "\n",
    "def image_sizes(dataset_dir):\n",
    "    dirlist = os.listdir(dataset_dir)\n",
    "    print(len(dirlist))\n",
    "    sizes = []\n",
    "    sizes_all_landscape = []\n",
    "    for i, image_filename in enumerate(dirlist):\n",
    "        if i % 1000 == 0: print(i)\n",
    "        # if i > 1000: break\n",
    "        try:\n",
    "            im = Image.open(Path(dataset_dir / image_filename))\n",
    "            width, height = im.size\n",
    "            sizes.append([width, height])\n",
    "            if width < height:\n",
    "                sizes_all_landscape.append([height, width])\n",
    "            else:\n",
    "                sizes_all_landscape.append([width, height])\n",
    "        except Exception as e:\n",
    "            print(e)\n",
    "    sizes_df = pd.DataFrame(sizes, columns=['width', 'heigth'])\n",
    "    return sizes_df\n",
    "\n",
    "sizes_df = image_sizes(dataset_dir)\n",
    "# sizes_df.to_csv('datasets/sizes.csv')\n",
    "print(sizes_df.value_counts())\n",
    "\n"
   ]
  },
  {
   "cell_type": "markdown",
   "metadata": {},
   "source": [
    "## Move images"
   ]
  },
  {
   "cell_type": "code",
   "execution_count": null,
   "metadata": {
    "tags": []
   },
   "outputs": [],
   "source": [
    "import os\r\n",
    "import shutil\r\n",
    "from pathlib import Path\r\n",
    "\r\n",
    "dir_from = Path('c:/Users/flori/download/subset/data')\r\n",
    "dir_to = Path('c:/Users/flori/download/subset')\r\n",
    "dirlist = os.listdir(dir_from)\r\n",
    "\r\n",
    "# print(dirlist)\r\n",
    "print(len(dirlist))\r\n",
    "for i, f in enumerate(dirlist):\r\n",
    "    if i % 1000 == 0: print(i)\r\n",
    "    if f != 'original':\r\n",
    "        try:\r\n",
    "            shutil.move(dir_from / Path(f),  dir_to / Path(f))\r\n",
    "        except:\r\n",
    "            print('oops')\r\n"
   ]
  },
  {
   "cell_type": "markdown",
   "metadata": {},
   "source": [
    "## Create a matrix of images from a folder"
   ]
  },
  {
   "cell_type": "code",
   "execution_count": null,
   "metadata": {},
   "outputs": [],
   "source": [
    "import numpy as np\n",
    "import matplotlib.pyplot as plt\n",
    "import matplotlib.image as mpimg\n",
    "import os\n",
    "img_dir = 'C:/Users/flori/download/image_ranges'\n",
    "images = os.listdir(img_dir)\n",
    "\n",
    "w=4\n",
    "h=6\n",
    "fig=plt.figure(figsize=(15,8))\n",
    "columns = 4\n",
    "rows = 5\n",
    "for i in range(1, columns*rows +1):\n",
    "    img = mpimg.imread(img_dir + '/' + images[i-1])\n",
    "    fig.add_subplot(rows, columns, i)\n",
    "    plt.axis('off')\n",
    "    plt.imshow(img)\n",
    "# plt.show()\n",
    "plt.tight_layout()\n",
    "plt.savefig('plots/some_images.pdf')"
   ]
  }
 ],
 "metadata": {
  "interpreter": {
   "hash": "86a08859f46087af4c4e074af73530229dd7d8037ffe099cb063a6850e6813df"
  },
  "kernelspec": {
   "display_name": "Python 3.7.10 64-bit ('python37': conda)",
   "name": "python3"
  },
  "language_info": {
   "name": "python",
   "version": ""
  },
  "metadata": {
   "interpreter": {
    "hash": "86a08859f46087af4c4e074af73530229dd7d8037ffe099cb063a6850e6813df"
   }
  },
  "orig_nbformat": 2
 },
 "nbformat": 4,
 "nbformat_minor": 2
}