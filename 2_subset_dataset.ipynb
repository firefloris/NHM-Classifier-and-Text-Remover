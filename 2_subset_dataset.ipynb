{
 "cells": [
  {
   "cell_type": "markdown",
   "metadata": {},
   "source": [
    "## Setup"
   ]
  },
  {
   "cell_type": "code",
   "execution_count": 65,
   "metadata": {},
   "outputs": [],
   "source": [
    "import os\n",
    "import pandas as pd\n",
    "import numpy as np\n",
    "import re\n",
    "import matplotlib.pyplot as plt\n",
    "from pathlib import Path\n",
    "import PIL\n",
    "import matplotlib.image as mpimg\n",
    "import shutil\n",
    "from pathlib import Path\n",
    "import time\n",
    "from ast import literal_eval\n",
    "%matplotlib inline\n",
    "\n",
    "pd.options.mode.chained_assignment = None  # default='warn'\n",
    "np.random.seed(8)\n",
    "\n",
    "dataset_dir = Path('c:/Users/flori/download')"
   ]
  },
  {
   "cell_type": "markdown",
   "metadata": {},
   "source": [
    "## Extract tags per specimen\n"
   ]
  },
  {
   "cell_type": "code",
   "execution_count": 66,
   "metadata": {},
   "outputs": [
    {
     "name": "stdout",
     "output_type": "stream",
     "text": [
      "496508 496508\n"
     ]
    },
    {
     "data": {
      "text/html": "<div>\n<style scoped>\n    .dataframe tbody tr th:only-of-type {\n        vertical-align: middle;\n    }\n\n    .dataframe tbody tr th {\n        vertical-align: top;\n    }\n\n    .dataframe thead th {\n        text-align: right;\n    }\n</style>\n<table border=\"1\" class=\"dataframe\">\n  <thead>\n    <tr style=\"text-align: right;\">\n      <th></th>\n      <th>id</th>\n      <th>file_description</th>\n      <th>filename</th>\n      <th>order</th>\n      <th>tags</th>\n      <th>file_tag_count</th>\n      <th>id_file_count</th>\n      <th>id_tags</th>\n      <th>id_tags_count</th>\n    </tr>\n  </thead>\n  <tbody>\n    <tr>\n      <th>0</th>\n      <td>6585403</td>\n      <td>BMNHE_700566_label_34588</td>\n      <td>6585403_BMNHE_700566_label_34588.jpg</td>\n      <td>diptera</td>\n      <td>[label]</td>\n      <td>1</td>\n      <td>2</td>\n      <td>[label]</td>\n      <td>1</td>\n    </tr>\n    <tr>\n      <th>1</th>\n      <td>6585403</td>\n      <td>BMNHE_700566_34588</td>\n      <td>6585403_BMNHE_700566_34588.jpg</td>\n      <td>diptera</td>\n      <td>[]</td>\n      <td>0</td>\n      <td>2</td>\n      <td>[label]</td>\n      <td>1</td>\n    </tr>\n    <tr>\n      <th>2</th>\n      <td>6585405</td>\n      <td>BMNHE_700568_label_34590</td>\n      <td>6585405_BMNHE_700568_label_34590.jpg</td>\n      <td>diptera</td>\n      <td>[label]</td>\n      <td>1</td>\n      <td>2</td>\n      <td>[label]</td>\n      <td>1</td>\n    </tr>\n    <tr>\n      <th>3</th>\n      <td>6585405</td>\n      <td>BMNHE_700568_34590</td>\n      <td>6585405_BMNHE_700568_34590.jpg</td>\n      <td>diptera</td>\n      <td>[]</td>\n      <td>0</td>\n      <td>2</td>\n      <td>[label]</td>\n      <td>1</td>\n    </tr>\n    <tr>\n      <th>4</th>\n      <td>6589069</td>\n      <td>BMNHE_700441_label_38337</td>\n      <td>6589069_BMNHE_700441_label_38337.jpg</td>\n      <td>diptera</td>\n      <td>[label]</td>\n      <td>1</td>\n      <td>2</td>\n      <td>[label]</td>\n      <td>1</td>\n    </tr>\n    <tr>\n      <th>5</th>\n      <td>6589069</td>\n      <td>BMNHE_700441_38337</td>\n      <td>6589069_BMNHE_700441_38337.jpg</td>\n      <td>diptera</td>\n      <td>[]</td>\n      <td>0</td>\n      <td>2</td>\n      <td>[label]</td>\n      <td>1</td>\n    </tr>\n    <tr>\n      <th>6</th>\n      <td>6589037</td>\n      <td>BMNHE_700447_38305</td>\n      <td>6589037_BMNHE_700447_38305.jpg</td>\n      <td>diptera</td>\n      <td>[]</td>\n      <td>0</td>\n      <td>2</td>\n      <td>[label]</td>\n      <td>1</td>\n    </tr>\n    <tr>\n      <th>7</th>\n      <td>6589037</td>\n      <td>BMNHE_700447_label_38305</td>\n      <td>6589037_BMNHE_700447_label_38305.jpg</td>\n      <td>diptera</td>\n      <td>[label]</td>\n      <td>1</td>\n      <td>2</td>\n      <td>[label]</td>\n      <td>1</td>\n    </tr>\n    <tr>\n      <th>8</th>\n      <td>6589070</td>\n      <td>BMNHE_700446_label_38338</td>\n      <td>6589070_BMNHE_700446_label_38338.jpg</td>\n      <td>diptera</td>\n      <td>[label]</td>\n      <td>1</td>\n      <td>2</td>\n      <td>[label]</td>\n      <td>1</td>\n    </tr>\n    <tr>\n      <th>9</th>\n      <td>6589070</td>\n      <td>BMNHE_700446_38338</td>\n      <td>6589070_BMNHE_700446_38338.jpg</td>\n      <td>diptera</td>\n      <td>[]</td>\n      <td>0</td>\n      <td>2</td>\n      <td>[label]</td>\n      <td>1</td>\n    </tr>\n  </tbody>\n</table>\n</div>",
      "text/plain": [
       "        id          file_description                              filename  \\\n",
       "0  6585403  BMNHE_700566_label_34588  6585403_BMNHE_700566_label_34588.jpg   \n",
       "1  6585403        BMNHE_700566_34588        6585403_BMNHE_700566_34588.jpg   \n",
       "2  6585405  BMNHE_700568_label_34590  6585405_BMNHE_700568_label_34590.jpg   \n",
       "3  6585405        BMNHE_700568_34590        6585405_BMNHE_700568_34590.jpg   \n",
       "4  6589069  BMNHE_700441_label_38337  6589069_BMNHE_700441_label_38337.jpg   \n",
       "5  6589069        BMNHE_700441_38337        6589069_BMNHE_700441_38337.jpg   \n",
       "6  6589037        BMNHE_700447_38305        6589037_BMNHE_700447_38305.jpg   \n",
       "7  6589037  BMNHE_700447_label_38305  6589037_BMNHE_700447_label_38305.jpg   \n",
       "8  6589070  BMNHE_700446_label_38338  6589070_BMNHE_700446_label_38338.jpg   \n",
       "9  6589070        BMNHE_700446_38338        6589070_BMNHE_700446_38338.jpg   \n",
       "\n",
       "     order     tags  file_tag_count  id_file_count  id_tags  id_tags_count  \n",
       "0  diptera  [label]               1              2  [label]              1  \n",
       "1  diptera       []               0              2  [label]              1  \n",
       "2  diptera  [label]               1              2  [label]              1  \n",
       "3  diptera       []               0              2  [label]              1  \n",
       "4  diptera  [label]               1              2  [label]              1  \n",
       "5  diptera       []               0              2  [label]              1  \n",
       "6  diptera       []               0              2  [label]              1  \n",
       "7  diptera  [label]               1              2  [label]              1  \n",
       "8  diptera  [label]               1              2  [label]              1  \n",
       "9  diptera       []               0              2  [label]              1  "
      ]
     },
     "execution_count": 66,
     "metadata": {},
     "output_type": "execute_result"
    }
   ],
   "source": [
    "def count_tags(dataset, subset=None, exclude_tags = ['', 'jpg', 'bmnhe', 'bmnh']):\n",
    "    all_tags, file_tag_count = [], []\n",
    "    ## Loop over each filename\n",
    "    for i, filename in enumerate(list(dataset.filename)):\n",
    "        ## Temporarly subset the dataset\n",
    "        if subset != None and i > subset: break\n",
    "        ## Check if the filename exists\n",
    "        if isinstance(filename, str):\n",
    "            tags = []\n",
    "            ## Loop over each tag in the filename\n",
    "            for j, tag in enumerate(re.split(r'\\_| |\\&|-|\\.|\\(|\\)|\\#|\\,|\\:', filename)): ## split on different seperators\n",
    "                ## The first tag is the id of the specimen\n",
    "                if j == 0: _id = int(tag)\n",
    "                ## Check if the other tags aren't numbers, or in the exclude_tags var\n",
    "                if tag.isnumeric() == False and tag.lower() not in exclude_tags:\n",
    "                    tag = re.sub(r'[0-9]+', '#', tag).lower() ## replace all numbers in a tag with a hashtag and make all text lower\n",
    "                    tags.append(tag)\n",
    "        \n",
    "        all_tags.append(tags)\n",
    "        file_tag_count.append(len(tags))\n",
    "\n",
    "    dataset['tags'] = all_tags\n",
    "    dataset['file_tag_count'] = file_tag_count\n",
    "\n",
    "    ## Calculate amount of files and make a list with all the tags\n",
    "    id_cols = dataset.groupby('id').agg({'id': 'size', 'tags': 'sum'}).rename(columns={'id': 'id_file_count', \"tags\": \"id_tags\"})\n",
    "    ## Length of the tags list\n",
    "    id_cols['id_tags_count'] = id_cols['id_tags'].str.len()\n",
    "    dataset = pd.merge(dataset, id_cols, on='id')\n",
    "\n",
    "    return dataset\n",
    "\n",
    "ds_tagged_path = Path('datasets/dataset_tagged.csv')\n",
    "# dataset = pd.read_csv('datasets/dataset.csv', sep=',', encoding='ISO-8859-1', usecols=['id', 'file_description', 'filename', 'order'])\n",
    "# dataset = dataset.drop_duplicates('filename')\n",
    "# count_tags(dataset).to_csv(ds_tagged_path)\n",
    "\n",
    "dataset_tagged = pd.read_csv(ds_tagged_path, index_col=0)\n",
    "dataset_tagged.tags = dataset_tagged.tags.apply(literal_eval)\n",
    "dataset_tagged.id_tags = dataset_tagged.id_tags.apply(literal_eval)\n",
    "print(len(dataset_tagged), sum(dataset_tagged.drop_duplicates('id').id_file_count))\n",
    "dataset_tagged.head(10)"
   ]
  },
  {
   "cell_type": "code",
   "execution_count": 67,
   "metadata": {},
   "outputs": [],
   "source": [
    "def label_mislabelled_manual(label):\n",
    "    \"\"\"Label all the items in the mislabeld directory and export this to manual_label.csv\"\"\"\n",
    "    mislabeled = pd.Series(os.listdir(Path(dataset_dir, 'mislabeled_label')), name='filename')\n",
    "    labeled = pd.merge(mislabeled, dataset_tagged, on='filename')\n",
    "    labeled['labels'] = str(label) \n",
    "    labeled['label_iter'] = 0\n",
    "    return labeled\n",
    "\n",
    "# cols = ['filename','order','id','file_description','tags','file_tag_count','id_file_count','id_tags','id_tags_count','labels','label_iter']\n",
    "# label_mislabelled = label_mislabelled_manual(['label'])[cols]\n",
    "# with open('datasets/manual_label copy.csv', 'ab') as f:\n",
    "#     label_mislabelled.to_csv(f, header=False)"
   ]
  },
  {
   "cell_type": "code",
   "execution_count": 68,
   "metadata": {},
   "outputs": [
    {
     "name": "stdout",
     "output_type": "stream",
     "text": [
      "batch\ttotal\torignal\tlabeled\n",
      "\t496508\t496508\t0\n",
      "0\t496508\t494438\t2070\n",
      "1\t496508\t410206\t86302\n",
      "2\t496508\t368923\t127585\n",
      "3\t496508\t231996\t264512\n",
      "4\t496508\t226754\t269754\n",
      "5\t496508\t212674\t283834\n",
      "Checks:\n",
      "True\n"
     ]
    },
    {
     "data": {
      "text/html": "<div>\n<style scoped>\n    .dataframe tbody tr th:only-of-type {\n        vertical-align: middle;\n    }\n\n    .dataframe tbody tr th {\n        vertical-align: top;\n    }\n\n    .dataframe thead th {\n        text-align: right;\n    }\n</style>\n<table border=\"1\" class=\"dataframe\">\n  <thead>\n    <tr style=\"text-align: right;\">\n      <th></th>\n      <th>filename</th>\n      <th>order</th>\n      <th>id</th>\n      <th>file_description</th>\n      <th>tags</th>\n      <th>file_tag_count</th>\n      <th>id_file_count</th>\n      <th>id_tags</th>\n      <th>id_tags_count</th>\n      <th>labels</th>\n      <th>label_iter</th>\n      <th>filename_folder</th>\n    </tr>\n  </thead>\n  <tbody>\n    <tr>\n      <th>0</th>\n      <td>8244638_011251486_lateral.jpg</td>\n      <td>ephemeroptera</td>\n      <td>8244638</td>\n      <td>011251486_lateral</td>\n      <td>['lateral']</td>\n      <td>1</td>\n      <td>7</td>\n      <td>['alice', 'dorsal', 'lateral', 'additional', '...</td>\n      <td>7</td>\n      <td>['label', 'specimen']</td>\n      <td>0</td>\n      <td>both/8244638_011251486_lateral.jpg</td>\n    </tr>\n    <tr>\n      <th>1</th>\n      <td>8242567_011246746_lateral.jpg</td>\n      <td>ephemeroptera</td>\n      <td>8242567</td>\n      <td>011246746_lateral</td>\n      <td>['lateral']</td>\n      <td>1</td>\n      <td>7</td>\n      <td>['alice', 'dorsal', 'additional', 'additional'...</td>\n      <td>7</td>\n      <td>['label', 'specimen']</td>\n      <td>0</td>\n      <td>both/8242567_011246746_lateral.jpg</td>\n    </tr>\n    <tr>\n      <th>2</th>\n      <td>8243797_011252129_lateral.jpg</td>\n      <td>ephemeroptera</td>\n      <td>8243797</td>\n      <td>011252129_lateral</td>\n      <td>['lateral']</td>\n      <td>1</td>\n      <td>7</td>\n      <td>['alice', 'dorsal', 'additional', 'lateral', '...</td>\n      <td>7</td>\n      <td>['label', 'specimen']</td>\n      <td>0</td>\n      <td>both/8243797_011252129_lateral.jpg</td>\n    </tr>\n    <tr>\n      <th>3</th>\n      <td>8243670_011253512_lateral.jpg</td>\n      <td>ephemeroptera</td>\n      <td>8243670</td>\n      <td>011253512_lateral</td>\n      <td>['lateral']</td>\n      <td>1</td>\n      <td>7</td>\n      <td>['alice', 'dorsal', 'additional', 'lateral', '...</td>\n      <td>7</td>\n      <td>['label', 'specimen']</td>\n      <td>0</td>\n      <td>both/8243670_011253512_lateral.jpg</td>\n    </tr>\n    <tr>\n      <th>4</th>\n      <td>8242566_011249199_lateral.jpg</td>\n      <td>ephemeroptera</td>\n      <td>8242566</td>\n      <td>011249199_lateral</td>\n      <td>['lateral']</td>\n      <td>1</td>\n      <td>7</td>\n      <td>['alice', 'dorsal', 'additional', 'additional'...</td>\n      <td>7</td>\n      <td>['label', 'specimen']</td>\n      <td>0</td>\n      <td>both/8242566_011249199_lateral.jpg</td>\n    </tr>\n    <tr>\n      <th>...</th>\n      <td>...</td>\n      <td>...</td>\n      <td>...</td>\n      <td>...</td>\n      <td>...</td>\n      <td>...</td>\n      <td>...</td>\n      <td>...</td>\n      <td>...</td>\n      <td>...</td>\n      <td>...</td>\n      <td>...</td>\n    </tr>\n    <tr>\n      <th>283829</th>\n      <td>9016939_013525196_additional.jpg</td>\n      <td>hemiptera</td>\n      <td>9016939</td>\n      <td>013525196_additional</td>\n      <td>[additional]</td>\n      <td>1</td>\n      <td>2</td>\n      <td>[type, additional]</td>\n      <td>2</td>\n      <td>[label]</td>\n      <td>5</td>\n      <td>label/9016939_013525196_additional.jpg</td>\n    </tr>\n    <tr>\n      <th>283830</th>\n      <td>9013219_013552505_117311_1098809_157873_Type.jpg</td>\n      <td>hemiptera</td>\n      <td>9013219</td>\n      <td>013552505_117311_1098809_157873_Type</td>\n      <td>[type]</td>\n      <td>1</td>\n      <td>2</td>\n      <td>[type, additional]</td>\n      <td>2</td>\n      <td>[label, specimen]</td>\n      <td>5</td>\n      <td>both/9013219_013552505_117311_1098809_157873_T...</td>\n    </tr>\n    <tr>\n      <th>283831</th>\n      <td>9013219_013552505_additional.jpg</td>\n      <td>hemiptera</td>\n      <td>9013219</td>\n      <td>013552505_additional</td>\n      <td>[additional]</td>\n      <td>1</td>\n      <td>2</td>\n      <td>[type, additional]</td>\n      <td>2</td>\n      <td>[label]</td>\n      <td>5</td>\n      <td>label/9013219_013552505_additional.jpg</td>\n    </tr>\n    <tr>\n      <th>283832</th>\n      <td>9012896_013552504_117311_1098809_157873_Type.jpg</td>\n      <td>hemiptera</td>\n      <td>9012896</td>\n      <td>013552504_117311_1098809_157873_Type</td>\n      <td>[type]</td>\n      <td>1</td>\n      <td>2</td>\n      <td>[type, additional]</td>\n      <td>2</td>\n      <td>[label, specimen]</td>\n      <td>5</td>\n      <td>both/9012896_013552504_117311_1098809_157873_T...</td>\n    </tr>\n    <tr>\n      <th>283833</th>\n      <td>9012896_013552504_additional.jpg</td>\n      <td>hemiptera</td>\n      <td>9012896</td>\n      <td>013552504_additional</td>\n      <td>[additional]</td>\n      <td>1</td>\n      <td>2</td>\n      <td>[type, additional]</td>\n      <td>2</td>\n      <td>[label]</td>\n      <td>5</td>\n      <td>label/9012896_013552504_additional.jpg</td>\n    </tr>\n  </tbody>\n</table>\n<p>283834 rows × 12 columns</p>\n</div>",
      "text/plain": [
       "                                                filename          order  \\\n",
       "0                          8244638_011251486_lateral.jpg  ephemeroptera   \n",
       "1                          8242567_011246746_lateral.jpg  ephemeroptera   \n",
       "2                          8243797_011252129_lateral.jpg  ephemeroptera   \n",
       "3                          8243670_011253512_lateral.jpg  ephemeroptera   \n",
       "4                          8242566_011249199_lateral.jpg  ephemeroptera   \n",
       "...                                                  ...            ...   \n",
       "283829                  9016939_013525196_additional.jpg      hemiptera   \n",
       "283830  9013219_013552505_117311_1098809_157873_Type.jpg      hemiptera   \n",
       "283831                  9013219_013552505_additional.jpg      hemiptera   \n",
       "283832  9012896_013552504_117311_1098809_157873_Type.jpg      hemiptera   \n",
       "283833                  9012896_013552504_additional.jpg      hemiptera   \n",
       "\n",
       "             id                      file_description          tags  \\\n",
       "0       8244638                     011251486_lateral   ['lateral']   \n",
       "1       8242567                     011246746_lateral   ['lateral']   \n",
       "2       8243797                     011252129_lateral   ['lateral']   \n",
       "3       8243670                     011253512_lateral   ['lateral']   \n",
       "4       8242566                     011249199_lateral   ['lateral']   \n",
       "...         ...                                   ...           ...   \n",
       "283829  9016939                  013525196_additional  [additional]   \n",
       "283830  9013219  013552505_117311_1098809_157873_Type        [type]   \n",
       "283831  9013219                  013552505_additional  [additional]   \n",
       "283832  9012896  013552504_117311_1098809_157873_Type        [type]   \n",
       "283833  9012896                  013552504_additional  [additional]   \n",
       "\n",
       "        file_tag_count  id_file_count  \\\n",
       "0                    1              7   \n",
       "1                    1              7   \n",
       "2                    1              7   \n",
       "3                    1              7   \n",
       "4                    1              7   \n",
       "...                ...            ...   \n",
       "283829               1              2   \n",
       "283830               1              2   \n",
       "283831               1              2   \n",
       "283832               1              2   \n",
       "283833               1              2   \n",
       "\n",
       "                                                  id_tags  id_tags_count  \\\n",
       "0       ['alice', 'dorsal', 'lateral', 'additional', '...              7   \n",
       "1       ['alice', 'dorsal', 'additional', 'additional'...              7   \n",
       "2       ['alice', 'dorsal', 'additional', 'lateral', '...              7   \n",
       "3       ['alice', 'dorsal', 'additional', 'lateral', '...              7   \n",
       "4       ['alice', 'dorsal', 'additional', 'additional'...              7   \n",
       "...                                                   ...            ...   \n",
       "283829                                 [type, additional]              2   \n",
       "283830                                 [type, additional]              2   \n",
       "283831                                 [type, additional]              2   \n",
       "283832                                 [type, additional]              2   \n",
       "283833                                 [type, additional]              2   \n",
       "\n",
       "                       labels  label_iter  \\\n",
       "0       ['label', 'specimen']           0   \n",
       "1       ['label', 'specimen']           0   \n",
       "2       ['label', 'specimen']           0   \n",
       "3       ['label', 'specimen']           0   \n",
       "4       ['label', 'specimen']           0   \n",
       "...                       ...         ...   \n",
       "283829                [label]           5   \n",
       "283830      [label, specimen]           5   \n",
       "283831                [label]           5   \n",
       "283832      [label, specimen]           5   \n",
       "283833                [label]           5   \n",
       "\n",
       "                                          filename_folder  \n",
       "0                      both/8244638_011251486_lateral.jpg  \n",
       "1                      both/8242567_011246746_lateral.jpg  \n",
       "2                      both/8243797_011252129_lateral.jpg  \n",
       "3                      both/8243670_011253512_lateral.jpg  \n",
       "4                      both/8242566_011249199_lateral.jpg  \n",
       "...                                                   ...  \n",
       "283829             label/9016939_013525196_additional.jpg  \n",
       "283830  both/9013219_013552505_117311_1098809_157873_T...  \n",
       "283831             label/9013219_013552505_additional.jpg  \n",
       "283832  both/9012896_013552504_117311_1098809_157873_T...  \n",
       "283833             label/9012896_013552504_additional.jpg  \n",
       "\n",
       "[283834 rows x 12 columns]"
      ]
     },
     "execution_count": 68,
     "metadata": {},
     "output_type": "execute_result"
    }
   ],
   "source": [
    "def label_dataset(original, labeled_in, label_iter):\n",
    "    if label_iter == 0:\n",
    "        labeled = pd.read_csv(Path('datasets/manual_label copy.csv'), index_col=0)\n",
    "        labeled = labeled.drop_duplicates(subset=['file_description'])\n",
    "        original = original[~original.filename.isin(labeled.filename)]\n",
    "    \n",
    "    if label_iter == 1:\n",
    "        mask = (original.id_file_count == 2) & (original.id_tags_count == 1) \n",
    "        mask = mask & original.id_tags.apply(lambda x: (any(item in x for item in ['label'])))\n",
    "        original, labeled = original[~mask], original[mask]\n",
    "        labeled['labels'] = labeled['file_tag_count'].apply(lambda x: ['label'] if x == 1 else ['label', 'specimen'])\n",
    "        labeled['label_iter'] = int(label_iter)\n",
    "        labeled = labeled_in.append(labeled, ignore_index=True)\n",
    "    \n",
    "    if label_iter == 2:\n",
    "        mask = original.tags.apply(lambda x: \n",
    "            (any(item in x for item in ['specimen', 'dorsal', 'lateral', 'head', 'frontal', 'face', 'left', 'right'])) and \n",
    "            (not any(item in x for item in ['labels', 'label', 'alice', 'photographer'])))\n",
    "        original, labeled = original[~mask], original[mask]\n",
    "        labeled['labels'] = [['specimen']] * len(labeled)\n",
    "        labeled['label_iter'] = int(label_iter)\n",
    "        labeled = labeled_in.append(labeled, ignore_index=True)\n",
    "    \n",
    "    if label_iter == 3:\n",
    "        mask = (original[\"id_file_count\"] == 1)\n",
    "        mask = mask & original.tags.apply(lambda x: (not any(item in x for item in ['labels', 'label'])))\n",
    "        original, labeled = original[~mask], original[mask]\n",
    "        labeled['labels'] = [['label', 'specimen']] * len(labeled)\n",
    "        labeled['label_iter'] = int(label_iter)\n",
    "        labeled = labeled_in.append(labeled, ignore_index=True)\n",
    "\n",
    "    if label_iter == 4:\n",
    "        mask = original.tags.apply(lambda x: \n",
    "            (any(item in x for item in ['labels', 'label'])) and\n",
    "            (not any(item in x for item in ['and', 'with', 'dorsal', 'ventral'])))\n",
    "        original, labeled = original[~mask], original[mask]\n",
    "        labeled['labels'] = [['label']] * len(labeled)\n",
    "        labeled['label_iter'] = int(label_iter)\n",
    "        labeled = labeled_in.append(labeled, ignore_index=True)\n",
    "\n",
    "    if label_iter == 5:\n",
    "        mask = (original.id_file_count == 2) & (original.order == 'hemiptera')\n",
    "        mask = mask & original.id_tags.apply(lambda x: (any(item in x for item in ['additional'])))\n",
    "        original, labeled = original[~mask], original[mask]\n",
    "        labeled['labels'] = labeled['tags'].apply(lambda x: ['label'] if x == ['additional'] else ['label', 'specimen'])\n",
    "        labeled['label_iter'] = int(label_iter)\n",
    "        labeled = labeled_in.append(labeled, ignore_index=True)\n",
    "\n",
    "    return original, labeled\n",
    "\n",
    "original = dataset_tagged.copy(deep=True)\n",
    "labeled = pd.DataFrame(columns=original.columns)\n",
    "\n",
    "output_df = pd.DataFrame(columns=['batch','total','orignal','labeled'])\n",
    "print('batch\\ttotal\\torignal\\tlabeled')\n",
    "print(f\"\\t{original.shape[0] + labeled.shape[0]}\\t{original.shape[0]}\\t{labeled.shape[0]}\")\n",
    "for label_iter in range(6):\n",
    "    original, labeled = label_dataset(original, labeled, label_iter)\n",
    "    print(f\"{label_iter}\\t{original.shape[0] + labeled.shape[0]}\\t{original.shape[0]}\\t{labeled.shape[0]}\")\n",
    "\n",
    "labeled['filename_folder'] = labeled.labels.astype(str).replace([str(['specimen']), str(['label','specimen']), str(['label'])], ['specimen/', 'both/', 'label/'])\n",
    "labeled.filename_folder = labeled.filename_folder + labeled.filename\n",
    "\n",
    "print('Checks:')\n",
    "print(all(labeled.labels.astype(str).unique() == [\"['label', 'specimen']\", \"['specimen']\", \"['label']\"]))\n",
    "\n",
    "labeled"
   ]
  },
  {
   "cell_type": "code",
   "execution_count": 69,
   "metadata": {},
   "outputs": [],
   "source": [
    "## Show images\n",
    "def process(filename: str=None) -> None:\n",
    "    try:\n",
    "        image = mpimg.imread(filename)\n",
    "        plt.figure()\n",
    "        plt.axis('off')\n",
    "        plt.tight_layout()\n",
    "        plt.title(filename)\n",
    "        plt.imshow(image)\n",
    "    except Exception as e:\n",
    "        print(e) \n",
    "\n",
    "# for file in labeled[labeled.label_iter == 3].filename[:10]:\n",
    "#     process(Path(dataset_dir / 'hemiptera' / file))"
   ]
  },
  {
   "cell_type": "code",
   "execution_count": 70,
   "metadata": {
    "tags": []
   },
   "outputs": [],
   "source": [
    "## Move images\n",
    "def move_items(from_list, dir_from, dir_to):\n",
    "    print('List total: ', len(from_list))\n",
    "    from_list = set(from_list) - set(os.listdir(dir_to))\n",
    "    print('Will move: ', len(from_list))\n",
    "    a =  'y' #input(f\"Do you want to move items from {dir_from} to {dir_to}? [y/n]\")\n",
    "    if a == \"y\" and os.path.exists(dir_from) and os.path.exists(dir_to):\n",
    "        failed = 0\n",
    "        for i, f in enumerate(from_list):\n",
    "            if i % 10000 == 0: print(i)\n",
    "            try: shutil.move(dir_from / f,  dir_to / f)\n",
    "            except Exception as e: failed += 1\n",
    "        print('failed:', failed, 'succeeded', len(from_list)-failed)\n",
    "    else: print(f\"Something went wrong. {os.path.exists(dir_from), os.path.exists(dir_to)}\")\n",
    "\n",
    "# from_list = os.listdir(dir_from)\n",
    "# from_list = list(labeled[labeled.labels.astype(str) == \"['label']\"].filename)\n",
    "# from_list = list(labeled[labeled.label_iter == 1].filename)\n",
    "from_list = list(labeled.filename)\n",
    "\n",
    "# dir_from = dataset_dir / 'original'\n",
    "# dir_to = dataset_dir / 'subset' \n",
    "# move_items(from_list[:], dir_from, dir_to)"
   ]
  },
  {
   "cell_type": "code",
   "execution_count": 71,
   "metadata": {
    "tags": []
   },
   "outputs": [
    {
     "name": "stdout",
     "output_type": "stream",
     "text": [
      "(281128,)\n"
     ]
    },
    {
     "data": {
      "text/plain": [
       "(281128, 12)"
      ]
     },
     "execution_count": 71,
     "metadata": {},
     "output_type": "execute_result"
    }
   ],
   "source": [
    "## make sure the dataset is sorted because of https://www.tensorflow.org/api_docs/python/tf/keras/preprocessing/image_dataset_from_directory\n",
    "## also check if every image is in the dataframe\n",
    "\n",
    "dir_to = Path(dataset_dir / 'subset')\n",
    "sorted_dir = pd.Series(list(os.walk(dir_to))[0][2], name='filename')\n",
    "print(sorted_dir.shape)\n",
    "ds_sorted = pd.merge(sorted_dir, labeled, left_on='filename', right_on='filename')\n",
    "ds_sorted.shape"
   ]
  },
  {
   "cell_type": "code",
   "execution_count": 72,
   "metadata": {},
   "outputs": [],
   "source": [
    "## Check if the images are actually readable, this may take a while\n",
    "def check_image(path):\n",
    "    try:\n",
    "        img = PIL.Image.open(path)\n",
    "        img.verify()\n",
    "        img.close()\n",
    "        return True\n",
    "    except Exception as e:\n",
    "        print(e)\n",
    "        return False\n",
    "\n",
    "\n",
    "# ds_sorted['check_image'] = ds_sorted.filename.apply(lambda x: check_image(dir_to / x))\n",
    "# print(ds_sorted.check_image.value_counts())\n",
    "# ds_sorted = ds_sorted[ds_sorted.check_image == True].drop('check_image', axis=1)"
   ]
  },
  {
   "cell_type": "code",
   "execution_count": 73,
   "metadata": {},
   "outputs": [],
   "source": [
    "# Save the dataset to csv\n",
    "# timestr = time.strftime(\"%Y%m%d-%H%M%S\")\n",
    "# ds_sorted.to_csv(Path('subset_logs/' + timestr + '.csv'))"
   ]
  },
  {
   "cell_type": "code",
   "execution_count": 74,
   "metadata": {},
   "outputs": [
    {
     "data": {
      "text/html": "<div>\n<style scoped>\n    .dataframe tbody tr th:only-of-type {\n        vertical-align: middle;\n    }\n\n    .dataframe tbody tr th {\n        vertical-align: top;\n    }\n\n    .dataframe thead th {\n        text-align: right;\n    }\n</style>\n<table border=\"1\" class=\"dataframe\">\n  <thead>\n    <tr style=\"text-align: right;\">\n      <th></th>\n      <th>dataset</th>\n      <th>subset</th>\n      <th>ds%</th>\n      <th>ss%</th>\n      <th>['label', 'specimen']</th>\n      <th>['label']</th>\n      <th>['specimen']</th>\n    </tr>\n  </thead>\n  <tbody>\n    <tr>\n      <th>lepidoptera</th>\n      <td>131904.0</td>\n      <td>114417.0</td>\n      <td>26.600413</td>\n      <td>40.744473</td>\n      <td>69678.0</td>\n      <td>44688.0</td>\n      <td>51.0</td>\n    </tr>\n    <tr>\n      <th>hemiptera</th>\n      <td>123054.0</td>\n      <td>118151.0</td>\n      <td>24.815678</td>\n      <td>42.074170</td>\n      <td>111117.0</td>\n      <td>6962.0</td>\n      <td>72.0</td>\n    </tr>\n    <tr>\n      <th>hymenoptera</th>\n      <td>114943.0</td>\n      <td>22467.0</td>\n      <td>23.179974</td>\n      <td>8.000613</td>\n      <td>1474.0</td>\n      <td>489.0</td>\n      <td>20504.0</td>\n    </tr>\n    <tr>\n      <th>coleoptera</th>\n      <td>60997.0</td>\n      <td>11617.0</td>\n      <td>12.300957</td>\n      <td>4.136873</td>\n      <td>1242.0</td>\n      <td>750.0</td>\n      <td>9625.0</td>\n    </tr>\n    <tr>\n      <th>ephemeroptera</th>\n      <td>29942.0</td>\n      <td>4563.0</td>\n      <td>6.038252</td>\n      <td>1.624907</td>\n      <td>9.0</td>\n      <td>1.0</td>\n      <td>4553.0</td>\n    </tr>\n    <tr>\n      <th>diptera</th>\n      <td>17471.0</td>\n      <td>4839.0</td>\n      <td>3.523288</td>\n      <td>1.723192</td>\n      <td>424.0</td>\n      <td>895.0</td>\n      <td>3520.0</td>\n    </tr>\n    <tr>\n      <th>odonata</th>\n      <td>6079.0</td>\n      <td>3737.0</td>\n      <td>1.225921</td>\n      <td>1.330765</td>\n      <td>1171.0</td>\n      <td>260.0</td>\n      <td>2306.0</td>\n    </tr>\n    <tr>\n      <th>thysanoptera</th>\n      <td>5593.0</td>\n      <td>248.0</td>\n      <td>1.127912</td>\n      <td>0.088314</td>\n      <td>248.0</td>\n      <td>0.0</td>\n      <td>0.0</td>\n    </tr>\n    <tr>\n      <th>psocoptera</th>\n      <td>3091.0</td>\n      <td>235.0</td>\n      <td>0.623346</td>\n      <td>0.083685</td>\n      <td>235.0</td>\n      <td>0.0</td>\n      <td>0.0</td>\n    </tr>\n    <tr>\n      <th>phthiraptera</th>\n      <td>2143.0</td>\n      <td>305.0</td>\n      <td>0.432168</td>\n      <td>0.108612</td>\n      <td>1.0</td>\n      <td>0.0</td>\n      <td>304.0</td>\n    </tr>\n    <tr>\n      <th>blattodea</th>\n      <td>215.0</td>\n      <td>36.0</td>\n      <td>0.043358</td>\n      <td>0.012820</td>\n      <td>6.0</td>\n      <td>0.0</td>\n      <td>30.0</td>\n    </tr>\n    <tr>\n      <th>orthoptera</th>\n      <td>162.0</td>\n      <td>83.0</td>\n      <td>0.032670</td>\n      <td>0.029557</td>\n      <td>5.0</td>\n      <td>4.0</td>\n      <td>74.0</td>\n    </tr>\n    <tr>\n      <th>mantodea</th>\n      <td>96.0</td>\n      <td>30.0</td>\n      <td>0.019360</td>\n      <td>0.010683</td>\n      <td>0.0</td>\n      <td>0.0</td>\n      <td>30.0</td>\n    </tr>\n    <tr>\n      <th>neuroptera</th>\n      <td>79.0</td>\n      <td>42.0</td>\n      <td>0.015932</td>\n      <td>0.014956</td>\n      <td>6.0</td>\n      <td>4.0</td>\n      <td>32.0</td>\n    </tr>\n    <tr>\n      <th>trichoptera</th>\n      <td>46.0</td>\n      <td>21.0</td>\n      <td>0.009277</td>\n      <td>0.007478</td>\n      <td>1.0</td>\n      <td>0.0</td>\n      <td>20.0</td>\n    </tr>\n    <tr>\n      <th>siphonaptera</th>\n      <td>24.0</td>\n      <td>6.0</td>\n      <td>0.004840</td>\n      <td>0.002137</td>\n      <td>0.0</td>\n      <td>0.0</td>\n      <td>6.0</td>\n    </tr>\n    <tr>\n      <th>mecoptera</th>\n      <td>14.0</td>\n      <td>9.0</td>\n      <td>0.002823</td>\n      <td>0.003205</td>\n      <td>2.0</td>\n      <td>1.0</td>\n      <td>6.0</td>\n    </tr>\n    <tr>\n      <th>dermaptera</th>\n      <td>5.0</td>\n      <td>5.0</td>\n      <td>0.001008</td>\n      <td>0.001781</td>\n      <td>5.0</td>\n      <td>0.0</td>\n      <td>0.0</td>\n    </tr>\n    <tr>\n      <th>strepsiptera</th>\n      <td>4.0</td>\n      <td>2.0</td>\n      <td>0.000807</td>\n      <td>0.000712</td>\n      <td>1.0</td>\n      <td>0.0</td>\n      <td>1.0</td>\n    </tr>\n    <tr>\n      <th>megaloptera</th>\n      <td>3.0</td>\n      <td>1.0</td>\n      <td>0.000605</td>\n      <td>0.000356</td>\n      <td>1.0</td>\n      <td>0.0</td>\n      <td>0.0</td>\n    </tr>\n    <tr>\n      <th>grylloblattodea</th>\n      <td>2.0</td>\n      <td>1.0</td>\n      <td>0.000403</td>\n      <td>0.000356</td>\n      <td>0.0</td>\n      <td>0.0</td>\n      <td>1.0</td>\n    </tr>\n    <tr>\n      <th>plecoptera</th>\n      <td>1.0</td>\n      <td>1.0</td>\n      <td>0.000202</td>\n      <td>0.000356</td>\n      <td>1.0</td>\n      <td>0.0</td>\n      <td>0.0</td>\n    </tr>\n    <tr>\n      <th>Total</th>\n      <td>495868.0</td>\n      <td>280816.0</td>\n      <td>99.999193</td>\n      <td>100.000000</td>\n      <td>185627.0</td>\n      <td>54054.0</td>\n      <td>41135.0</td>\n    </tr>\n  </tbody>\n</table>\n</div>",
      "text/plain": [
       "                  dataset    subset        ds%         ss%  \\\n",
       "lepidoptera      131904.0  114417.0  26.600413   40.744473   \n",
       "hemiptera        123054.0  118151.0  24.815678   42.074170   \n",
       "hymenoptera      114943.0   22467.0  23.179974    8.000613   \n",
       "coleoptera        60997.0   11617.0  12.300957    4.136873   \n",
       "ephemeroptera     29942.0    4563.0   6.038252    1.624907   \n",
       "diptera           17471.0    4839.0   3.523288    1.723192   \n",
       "odonata            6079.0    3737.0   1.225921    1.330765   \n",
       "thysanoptera       5593.0     248.0   1.127912    0.088314   \n",
       "psocoptera         3091.0     235.0   0.623346    0.083685   \n",
       "phthiraptera       2143.0     305.0   0.432168    0.108612   \n",
       "blattodea           215.0      36.0   0.043358    0.012820   \n",
       "orthoptera          162.0      83.0   0.032670    0.029557   \n",
       "mantodea             96.0      30.0   0.019360    0.010683   \n",
       "neuroptera           79.0      42.0   0.015932    0.014956   \n",
       "trichoptera          46.0      21.0   0.009277    0.007478   \n",
       "siphonaptera         24.0       6.0   0.004840    0.002137   \n",
       "mecoptera            14.0       9.0   0.002823    0.003205   \n",
       "dermaptera            5.0       5.0   0.001008    0.001781   \n",
       "strepsiptera          4.0       2.0   0.000807    0.000712   \n",
       "megaloptera           3.0       1.0   0.000605    0.000356   \n",
       "grylloblattodea       2.0       1.0   0.000403    0.000356   \n",
       "plecoptera            1.0       1.0   0.000202    0.000356   \n",
       "Total            495868.0  280816.0  99.999193  100.000000   \n",
       "\n",
       "                 ['label', 'specimen']  ['label']  ['specimen']  \n",
       "lepidoptera                    69678.0    44688.0          51.0  \n",
       "hemiptera                     111117.0     6962.0          72.0  \n",
       "hymenoptera                     1474.0      489.0       20504.0  \n",
       "coleoptera                      1242.0      750.0        9625.0  \n",
       "ephemeroptera                      9.0        1.0        4553.0  \n",
       "diptera                          424.0      895.0        3520.0  \n",
       "odonata                         1171.0      260.0        2306.0  \n",
       "thysanoptera                     248.0        0.0           0.0  \n",
       "psocoptera                       235.0        0.0           0.0  \n",
       "phthiraptera                       1.0        0.0         304.0  \n",
       "blattodea                          6.0        0.0          30.0  \n",
       "orthoptera                         5.0        4.0          74.0  \n",
       "mantodea                           0.0        0.0          30.0  \n",
       "neuroptera                         6.0        4.0          32.0  \n",
       "trichoptera                        1.0        0.0          20.0  \n",
       "siphonaptera                       0.0        0.0           6.0  \n",
       "mecoptera                          2.0        1.0           6.0  \n",
       "dermaptera                         5.0        0.0           0.0  \n",
       "strepsiptera                       1.0        0.0           1.0  \n",
       "megaloptera                        1.0        0.0           0.0  \n",
       "grylloblattodea                    0.0        0.0           1.0  \n",
       "plecoptera                         1.0        0.0           0.0  \n",
       "Total                         185627.0    54054.0       41135.0  "
      ]
     },
     "execution_count": 74,
     "metadata": {},
     "output_type": "execute_result"
    }
   ],
   "source": [
    "## check if the datset is balanced\n",
    "ds_family = dataset_tagged[\"order\"].value_counts().rename('dataset')\n",
    "subset_family = ds_sorted[\"order\"].value_counts().rename('subset')\n",
    "order = pd.concat([ds_family, subset_family], axis=1)\n",
    "\n",
    "order['ds%'] = (order['dataset'] / order['dataset'].sum()) * 100\n",
    "order['ss%'] = (order['subset'] / order['subset'].sum()) * 100\n",
    "\n",
    "ds_sorted.labels = ds_sorted.labels.astype(str)\n",
    "ds_balance = ds_sorted[['labels', 'order']]\n",
    "ds_balance = ds_balance.pivot_table(index=\"order\", columns=\"labels\", aggfunc=len, fill_value=0)\n",
    "ds_balance = pd.merge(order, ds_balance, left_index=True, right_index=True)\n",
    "ds_balance.loc[\"Total\"] = ds_balance.sum()\n",
    "ds_balance"
   ]
  },
  {
   "cell_type": "code",
   "execution_count": 79,
   "metadata": {},
   "outputs": [
    {
     "name": "stdout",
     "output_type": "stream",
     "text": [
      "(23, 6)\n",
      "280816.0\n"
     ]
    }
   ],
   "source": [
    "## check if the datset is balanced\n",
    "\n",
    "order = pd.DataFrame(dataset_tagged[\"order\"].value_counts().rename('dataset'))\n",
    "# order['Dataset %'] = (order['dataset'] / order['dataset'].sum()) * 100\n",
    "for i in range(1, max(ds_sorted.label_iter)+1):\n",
    "    ds_copy = ds_sorted[ds_sorted.label_iter <= i]    \n",
    "    counts = ds_copy[\"order\"].value_counts().rename('subset')\n",
    "    # order[f'Subset{i} %'] = (counts / counts.sum()) * 100\n",
    "    order[f'subset{i}'] = counts\n",
    "    # order = pd.concat([order, subset_family], axis=1)\n",
    "\n",
    "# order = order.drop(columns=['dataset'])\n",
    "print(order.shape)\n",
    "n_rows = 10\n",
    "others = pd.Series(order[n_rows:].sum(), name='others')\n",
    "order = order[:n_rows]\n",
    "order = order.append(others)\n",
    "order.round(2)\n",
    "print(sum(order.subset5))"
   ]
  },
  {
   "cell_type": "code",
   "execution_count": 84,
   "metadata": {},
   "outputs": [
    {
     "data": {
      "text/plain": "<Figure size 576x216 with 0 Axes>"
     },
     "metadata": {},
     "output_type": "display_data"
    },
    {
     "data": {
      "image/png": "[encoded data removed]",
      "image/svg+xml": "<?xml version=\"1.0\" encoding=\"utf-8\" standalone=\"no\"?>\r\n<!DOCTYPE svg PUBLIC \"-//W3C//DTD SVG 1.1//EN\"\r\n  \"http://www.w3.org/Graphics/SVG/1.1/DTD/svg11.dtd\">\r\n<svg height=\"208.601126pt\" version=\"1.1\" viewBox=\"0 0 569.901563 208.601126\" width=\"569.901563pt\" xmlns=\"http://www.w3.org/2000/svg\" xmlns:xlink=\"http://www.w3.org/1999/xlink\">\r\n <metadata>\r\n  <rdf:RDF xmlns:cc=\"http://creativecommons.org/ns#\" xmlns:dc=\"http://purl.org/dc/elements/1.1/\" xmlns:rdf=\"http://www.w3.org/1999/02/22-rdf-syntax-ns#\">\r\n   <cc:Work>\r\n    <dc:type rdf:resource=\"http://purl.org/dc/dcmitype/StillImage\"/>\r\n    <dc:date>2021-05-20T01:55:54.170567</dc:date>\r\n    <dc:format>image/svg+xml</dc:format>\r\n    <dc:creator>\r\n     <cc:Agent>\r\n      <dc:title>Matplotlib v3.4.1, https://matplotlib.org/</dc:title>\r\n     </cc:Agent>\r\n    </dc:creator>\r\n   </cc:Work>\r\n  </rdf:RDF>\r\n </metadata>\r\n <defs>\r\n  <style type=\"text/css\">*{stroke-linecap:butt;stroke-linejoin:round;}</style>\r\n </defs>\r\n <g id=\"figure_1\">\r\n  <g id=\"patch_1\">\r\n   <path d=\"M 0 208.601126 \r\nL 569.901563 208.601126 \r\nL 569.901563 0 \r\nL 0 0 \r\nz\r\n\" style=\"fill:none;\"/>\r\n  </g>\r\n  <g id=\"axes_1\">\r\n   <g id=\"patch_2\">\r\n    <path d=\"M 52.375 159.598214 \r\nL 444.15 159.598214 \r\nL 444.15 7.2 \r\nL 52.375 7.2 \r\nz\r\n\" style=\"fill:#ffffff;\"/>\r\n   </g>\r\n   <g id=\"patch_3\">\r\n    <path clip-path=\"url(#pb59dbd4999)\" d=\"M 68.698958 159.598214 \r\nL 101.346875 159.598214 \r\nL 101.346875 120.990067 \r\nL 68.698958 120.990067 \r\nz\r\n\" style=\"fill:#1f77b4;\"/>\r\n   </g>\r\n   <g id=\"patch_4\">\r\n    <path clip-path=\"url(#pb59dbd4999)\" d=\"M 133.994792 159.598214 \r\nL 166.642708 159.598214 \r\nL 166.642708 135.562664 \r\nL 133.994792 135.562664 \r\nz\r\n\" style=\"fill:#1f77b4;\"/>\r\n   </g>\r\n   <g id=\"patch_5\">\r\n    <path clip-path=\"url(#pb59dbd4999)\" d=\"M 199.290625 159.598214 \r\nL 231.938542 159.598214 \r\nL 231.938542 135.547736 \r\nL 199.290625 135.547736 \r\nz\r\n\" style=\"fill:#1f77b4;\"/>\r\n   </g>\r\n   <g id=\"patch_6\">\r\n    <path clip-path=\"url(#pb59dbd4999)\" d=\"M 264.586458 159.598214 \r\nL 297.234375 159.598214 \r\nL 297.234375 127.170989 \r\nL 264.586458 127.170989 \r\nz\r\n\" style=\"fill:#1f77b4;\"/>\r\n   </g>\r\n   <g id=\"patch_7\">\r\n    <path clip-path=\"url(#pb59dbd4999)\" d=\"M 329.882292 159.598214 \r\nL 362.530208 159.598214 \r\nL 362.530208 126.108492 \r\nL 329.882292 126.108492 \r\nz\r\n\" style=\"fill:#1f77b4;\"/>\r\n   </g>\r\n   <g id=\"patch_8\">\r\n    <path clip-path=\"url(#pb59dbd4999)\" d=\"M 395.178125 159.598214 \r\nL 427.826042 159.598214 \r\nL 427.826042 126.108492 \r\nL 395.178125 126.108492 \r\nz\r\n\" style=\"fill:#1f77b4;\"/>\r\n   </g>\r\n   <g id=\"patch_9\">\r\n    <path clip-path=\"url(#pb59dbd4999)\" d=\"M 68.698958 120.990067 \r\nL 101.346875 120.990067 \r\nL 101.346875 84.972305 \r\nL 68.698958 84.972305 \r\nz\r\n\" style=\"fill:#ff7f0e;\"/>\r\n   </g>\r\n   <g id=\"patch_10\">\r\n    <path clip-path=\"url(#pb59dbd4999)\" d=\"M 133.994792 159.598214 \r\nL 166.642708 159.598214 \r\nL 166.642708 159.598214 \r\nL 133.994792 159.598214 \r\nz\r\n\" style=\"fill:#ff7f0e;\"/>\r\n   </g>\r\n   <g id=\"patch_11\">\r\n    <path clip-path=\"url(#pb59dbd4999)\" d=\"M 199.290625 135.547736 \r\nL 231.938542 135.547736 \r\nL 231.938542 135.526662 \r\nL 199.290625 135.526662 \r\nz\r\n\" style=\"fill:#ff7f0e;\"/>\r\n   </g>\r\n   <g id=\"patch_12\">\r\n    <path clip-path=\"url(#pb59dbd4999)\" d=\"M 264.586458 127.170989 \r\nL 297.234375 127.170989 \r\nL 297.234375 96.713333 \r\nL 264.586458 96.713333 \r\nz\r\n\" style=\"fill:#ff7f0e;\"/>\r\n   </g>\r\n   <g id=\"patch_13\">\r\n    <path clip-path=\"url(#pb59dbd4999)\" d=\"M 329.882292 126.108492 \r\nL 362.530208 126.108492 \r\nL 362.530208 95.644982 \r\nL 329.882292 95.644982 \r\nz\r\n\" style=\"fill:#ff7f0e;\"/>\r\n   </g>\r\n   <g id=\"patch_14\">\r\n    <path clip-path=\"url(#pb59dbd4999)\" d=\"M 395.178125 126.108492 \r\nL 427.826042 126.108492 \r\nL 427.826042 91.525832 \r\nL 395.178125 91.525832 \r\nz\r\n\" style=\"fill:#ff7f0e;\"/>\r\n   </g>\r\n   <g id=\"patch_15\">\r\n    <path clip-path=\"url(#pb59dbd4999)\" d=\"M 68.698958 84.972305 \r\nL 101.346875 84.972305 \r\nL 101.346875 51.328623 \r\nL 68.698958 51.328623 \r\nz\r\n\" style=\"fill:#2ca02c;\"/>\r\n   </g>\r\n   <g id=\"patch_16\">\r\n    <path clip-path=\"url(#pb59dbd4999)\" d=\"M 133.994792 135.562664 \r\nL 166.642708 135.562664 \r\nL 166.642708 135.562371 \r\nL 133.994792 135.562371 \r\nz\r\n\" style=\"fill:#2ca02c;\"/>\r\n   </g>\r\n   <g id=\"patch_17\">\r\n    <path clip-path=\"url(#pb59dbd4999)\" d=\"M 199.290625 135.526662 \r\nL 231.938542 135.526662 \r\nL 231.938542 129.524873 \r\nL 199.290625 129.524873 \r\nz\r\n\" style=\"fill:#2ca02c;\"/>\r\n   </g>\r\n   <g id=\"patch_18\">\r\n    <path clip-path=\"url(#pb59dbd4999)\" d=\"M 264.586458 96.713333 \r\nL 297.234375 96.713333 \r\nL 297.234375 90.280398 \r\nL 264.586458 90.280398 \r\nz\r\n\" style=\"fill:#2ca02c;\"/>\r\n   </g>\r\n   <g id=\"patch_19\">\r\n    <path clip-path=\"url(#pb59dbd4999)\" d=\"M 329.882292 95.644982 \r\nL 362.530208 95.644982 \r\nL 362.530208 89.068918 \r\nL 329.882292 89.068918 \r\nz\r\n\" style=\"fill:#2ca02c;\"/>\r\n   </g>\r\n   <g id=\"patch_20\">\r\n    <path clip-path=\"url(#pb59dbd4999)\" d=\"M 395.178125 91.525832 \r\nL 427.826042 91.525832 \r\nL 427.826042 84.949767 \r\nL 395.178125 84.949767 \r\nz\r\n\" style=\"fill:#2ca02c;\"/>\r\n   </g>\r\n   <g id=\"patch_21\">\r\n    <path clip-path=\"url(#pb59dbd4999)\" d=\"M 68.698958 51.328623 \r\nL 101.346875 51.328623 \r\nL 101.346875 33.474872 \r\nL 68.698958 33.474872 \r\nz\r\n\" style=\"fill:#d62728;\"/>\r\n   </g>\r\n   <g id=\"patch_22\">\r\n    <path clip-path=\"url(#pb59dbd4999)\" d=\"M 133.994792 135.562371 \r\nL 166.642708 135.562371 \r\nL 166.642708 135.168399 \r\nL 133.994792 135.168399 \r\nz\r\n\" style=\"fill:#d62728;\"/>\r\n   </g>\r\n   <g id=\"patch_23\">\r\n    <path clip-path=\"url(#pb59dbd4999)\" d=\"M 199.290625 129.524873 \r\nL 231.938542 129.524873 \r\nL 231.938542 126.313674 \r\nL 199.290625 126.313674 \r\nz\r\n\" style=\"fill:#d62728;\"/>\r\n   </g>\r\n   <g id=\"patch_24\">\r\n    <path clip-path=\"url(#pb59dbd4999)\" d=\"M 264.586458 90.280398 \r\nL 297.234375 90.280398 \r\nL 297.234375 86.902654 \r\nL 264.586458 86.902654 \r\nz\r\n\" style=\"fill:#d62728;\"/>\r\n   </g>\r\n   <g id=\"patch_25\">\r\n    <path clip-path=\"url(#pb59dbd4999)\" d=\"M 329.882292 89.068918 \r\nL 362.530208 89.068918 \r\nL 362.530208 85.668635 \r\nL 329.882292 85.668635 \r\nz\r\n\" style=\"fill:#d62728;\"/>\r\n   </g>\r\n   <g id=\"patch_26\">\r\n    <path clip-path=\"url(#pb59dbd4999)\" d=\"M 395.178125 84.949767 \r\nL 427.826042 84.949767 \r\nL 427.826042 81.549485 \r\nL 395.178125 81.549485 \r\nz\r\n\" style=\"fill:#d62728;\"/>\r\n   </g>\r\n   <g id=\"patch_27\">\r\n    <path clip-path=\"url(#pb59dbd4999)\" d=\"M 68.698958 33.474872 \r\nL 101.346875 33.474872 \r\nL 101.346875 24.710883 \r\nL 68.698958 24.710883 \r\nz\r\n\" style=\"fill:#9467bd;\"/>\r\n   </g>\r\n   <g id=\"patch_28\">\r\n    <path clip-path=\"url(#pb59dbd4999)\" d=\"M 133.994792 135.168399 \r\nL 166.642708 135.168399 \r\nL 166.642708 135.166935 \r\nL 133.994792 135.166935 \r\nz\r\n\" style=\"fill:#9467bd;\"/>\r\n   </g>\r\n   <g id=\"patch_29\">\r\n    <path clip-path=\"url(#pb59dbd4999)\" d=\"M 199.290625 126.313674 \r\nL 231.938542 126.313674 \r\nL 231.938542 124.979552 \r\nL 199.290625 124.979552 \r\nz\r\n\" style=\"fill:#9467bd;\"/>\r\n   </g>\r\n   <g id=\"patch_30\">\r\n    <path clip-path=\"url(#pb59dbd4999)\" d=\"M 264.586458 86.902654 \r\nL 297.234375 86.902654 \r\nL 297.234375 85.567362 \r\nL 264.586458 85.567362 \r\nz\r\n\" style=\"fill:#9467bd;\"/>\r\n   </g>\r\n   <g id=\"patch_31\">\r\n    <path clip-path=\"url(#pb59dbd4999)\" d=\"M 329.882292 85.668635 \r\nL 362.530208 85.668635 \r\nL 362.530208 84.333051 \r\nL 329.882292 84.333051 \r\nz\r\n\" style=\"fill:#9467bd;\"/>\r\n   </g>\r\n   <g id=\"patch_32\">\r\n    <path clip-path=\"url(#pb59dbd4999)\" d=\"M 395.178125 81.549485 \r\nL 427.826042 81.549485 \r\nL 427.826042 80.2139 \r\nL 395.178125 80.2139 \r\nz\r\n\" style=\"fill:#9467bd;\"/>\r\n   </g>\r\n   <g id=\"patch_33\">\r\n    <path clip-path=\"url(#pb59dbd4999)\" d=\"M 68.698958 24.710883 \r\nL 101.346875 24.710883 \r\nL 101.346875 19.597142 \r\nL 68.698958 19.597142 \r\nz\r\n\" style=\"fill:#8c564b;\"/>\r\n   </g>\r\n   <g id=\"patch_34\">\r\n    <path clip-path=\"url(#pb59dbd4999)\" d=\"M 133.994792 135.166935 \r\nL 166.642708 135.166935 \r\nL 166.642708 134.979608 \r\nL 133.994792 134.979608 \r\nz\r\n\" style=\"fill:#8c564b;\"/>\r\n   </g>\r\n   <g id=\"patch_35\">\r\n    <path clip-path=\"url(#pb59dbd4999)\" d=\"M 199.290625 124.979552 \r\nL 231.938542 124.979552 \r\nL 231.938542 123.761925 \r\nL 199.290625 123.761925 \r\nz\r\n\" style=\"fill:#8c564b;\"/>\r\n   </g>\r\n   <g id=\"patch_36\">\r\n    <path clip-path=\"url(#pb59dbd4999)\" d=\"M 264.586458 85.567362 \r\nL 297.234375 85.567362 \r\nL 297.234375 84.319294 \r\nL 264.586458 84.319294 \r\nz\r\n\" style=\"fill:#8c564b;\"/>\r\n   </g>\r\n   <g id=\"patch_37\">\r\n    <path clip-path=\"url(#pb59dbd4999)\" d=\"M 329.882292 84.333051 \r\nL 362.530208 84.333051 \r\nL 362.530208 82.916681 \r\nL 329.882292 82.916681 \r\nz\r\n\" style=\"fill:#8c564b;\"/>\r\n   </g>\r\n   <g id=\"patch_38\">\r\n    <path clip-path=\"url(#pb59dbd4999)\" d=\"M 395.178125 80.2139 \r\nL 427.826042 80.2139 \r\nL 427.826042 78.79753 \r\nL 395.178125 78.79753 \r\nz\r\n\" style=\"fill:#8c564b;\"/>\r\n   </g>\r\n   <g id=\"patch_39\">\r\n    <path clip-path=\"url(#pb59dbd4999)\" d=\"M 68.698958 19.597142 \r\nL 101.346875 19.597142 \r\nL 101.346875 17.817826 \r\nL 68.698958 17.817826 \r\nz\r\n\" style=\"fill:#e377c2;\"/>\r\n   </g>\r\n   <g id=\"patch_40\">\r\n    <path clip-path=\"url(#pb59dbd4999)\" d=\"M 133.994792 134.979608 \r\nL 166.642708 134.979608 \r\nL 166.642708 134.976096 \r\nL 133.994792 134.976096 \r\nz\r\n\" style=\"fill:#e377c2;\"/>\r\n   </g>\r\n   <g id=\"patch_41\">\r\n    <path clip-path=\"url(#pb59dbd4999)\" d=\"M 199.290625 123.761925 \r\nL 231.938542 123.761925 \r\nL 231.938542 123.083449 \r\nL 199.290625 123.083449 \r\nz\r\n\" style=\"fill:#e377c2;\"/>\r\n   </g>\r\n   <g id=\"patch_42\">\r\n    <path clip-path=\"url(#pb59dbd4999)\" d=\"M 264.586458 84.319294 \r\nL 297.234375 84.319294 \r\nL 297.234375 83.30158 \r\nL 264.586458 83.30158 \r\nz\r\n\" style=\"fill:#e377c2;\"/>\r\n   </g>\r\n   <g id=\"patch_43\">\r\n    <path clip-path=\"url(#pb59dbd4999)\" d=\"M 329.882292 82.916681 \r\nL 362.530208 82.916681 \r\nL 362.530208 81.822865 \r\nL 329.882292 81.822865 \r\nz\r\n\" style=\"fill:#e377c2;\"/>\r\n   </g>\r\n   <g id=\"patch_44\">\r\n    <path clip-path=\"url(#pb59dbd4999)\" d=\"M 395.178125 78.79753 \r\nL 427.826042 78.79753 \r\nL 427.826042 77.703715 \r\nL 395.178125 77.703715 \r\nz\r\n\" style=\"fill:#e377c2;\"/>\r\n   </g>\r\n   <g id=\"patch_45\">\r\n    <path clip-path=\"url(#pb59dbd4999)\" d=\"M 68.698958 17.817826 \r\nL 101.346875 17.817826 \r\nL 101.346875 16.180761 \r\nL 68.698958 16.180761 \r\nz\r\n\" style=\"fill:#7f7f7f;\"/>\r\n   </g>\r\n   <g id=\"patch_46\">\r\n    <path clip-path=\"url(#pb59dbd4999)\" d=\"M 133.994792 159.598214 \r\nL 166.642708 159.598214 \r\nL 166.642708 159.598214 \r\nL 133.994792 159.598214 \r\nz\r\n\" style=\"fill:#7f7f7f;\"/>\r\n   </g>\r\n   <g id=\"patch_47\">\r\n    <path clip-path=\"url(#pb59dbd4999)\" d=\"M 199.290625 159.598214 \r\nL 231.938542 159.598214 \r\nL 231.938542 159.598214 \r\nL 199.290625 159.598214 \r\nz\r\n\" style=\"fill:#7f7f7f;\"/>\r\n   </g>\r\n   <g id=\"patch_48\">\r\n    <path clip-path=\"url(#pb59dbd4999)\" d=\"M 264.586458 83.30158 \r\nL 297.234375 83.30158 \r\nL 297.234375 83.228991 \r\nL 264.586458 83.228991 \r\nz\r\n\" style=\"fill:#7f7f7f;\"/>\r\n   </g>\r\n   <g id=\"patch_49\">\r\n    <path clip-path=\"url(#pb59dbd4999)\" d=\"M 329.882292 81.822865 \r\nL 362.530208 81.822865 \r\nL 362.530208 81.750276 \r\nL 329.882292 81.750276 \r\nz\r\n\" style=\"fill:#7f7f7f;\"/>\r\n   </g>\r\n   <g id=\"patch_50\">\r\n    <path clip-path=\"url(#pb59dbd4999)\" d=\"M 395.178125 77.703715 \r\nL 427.826042 77.703715 \r\nL 427.826042 77.631125 \r\nL 395.178125 77.631125 \r\nz\r\n\" style=\"fill:#7f7f7f;\"/>\r\n   </g>\r\n   <g id=\"patch_51\">\r\n    <path clip-path=\"url(#pb59dbd4999)\" d=\"M 68.698958 16.180761 \r\nL 101.346875 16.180761 \r\nL 101.346875 15.276029 \r\nL 68.698958 15.276029 \r\nz\r\n\" style=\"fill:#bcbd22;\"/>\r\n   </g>\r\n   <g id=\"patch_52\">\r\n    <path clip-path=\"url(#pb59dbd4999)\" d=\"M 133.994792 159.598214 \r\nL 166.642708 159.598214 \r\nL 166.642708 159.598214 \r\nL 133.994792 159.598214 \r\nz\r\n\" style=\"fill:#bcbd22;\"/>\r\n   </g>\r\n   <g id=\"patch_53\">\r\n    <path clip-path=\"url(#pb59dbd4999)\" d=\"M 199.290625 159.598214 \r\nL 231.938542 159.598214 \r\nL 231.938542 159.598214 \r\nL 199.290625 159.598214 \r\nz\r\n\" style=\"fill:#bcbd22;\"/>\r\n   </g>\r\n   <g id=\"patch_54\">\r\n    <path clip-path=\"url(#pb59dbd4999)\" d=\"M 264.586458 83.228991 \r\nL 297.234375 83.228991 \r\nL 297.234375 83.160206 \r\nL 264.586458 83.160206 \r\nz\r\n\" style=\"fill:#bcbd22;\"/>\r\n   </g>\r\n   <g id=\"patch_55\">\r\n    <path clip-path=\"url(#pb59dbd4999)\" d=\"M 329.882292 81.750276 \r\nL 362.530208 81.750276 \r\nL 362.530208 81.681492 \r\nL 329.882292 81.681492 \r\nz\r\n\" style=\"fill:#bcbd22;\"/>\r\n   </g>\r\n   <g id=\"patch_56\">\r\n    <path clip-path=\"url(#pb59dbd4999)\" d=\"M 395.178125 77.631125 \r\nL 427.826042 77.631125 \r\nL 427.826042 77.562341 \r\nL 395.178125 77.562341 \r\nz\r\n\" style=\"fill:#bcbd22;\"/>\r\n   </g>\r\n   <g id=\"patch_57\">\r\n    <path clip-path=\"url(#pb59dbd4999)\" d=\"M 68.698958 15.276029 \r\nL 101.346875 15.276029 \r\nL 101.346875 14.648776 \r\nL 68.698958 14.648776 \r\nz\r\n\" style=\"fill:#17becf;\"/>\r\n   </g>\r\n   <g id=\"patch_58\">\r\n    <path clip-path=\"url(#pb59dbd4999)\" d=\"M 133.994792 159.598214 \r\nL 166.642708 159.598214 \r\nL 166.642708 159.598214 \r\nL 133.994792 159.598214 \r\nz\r\n\" style=\"fill:#17becf;\"/>\r\n   </g>\r\n   <g id=\"patch_59\">\r\n    <path clip-path=\"url(#pb59dbd4999)\" d=\"M 199.290625 123.083449 \r\nL 231.938542 123.083449 \r\nL 231.938542 122.994469 \r\nL 199.290625 122.994469 \r\nz\r\n\" style=\"fill:#17becf;\"/>\r\n   </g>\r\n   <g id=\"patch_60\">\r\n    <path clip-path=\"url(#pb59dbd4999)\" d=\"M 264.586458 83.160206 \r\nL 297.234375 83.160206 \r\nL 297.234375 83.070933 \r\nL 264.586458 83.070933 \r\nz\r\n\" style=\"fill:#17becf;\"/>\r\n   </g>\r\n   <g id=\"patch_61\">\r\n    <path clip-path=\"url(#pb59dbd4999)\" d=\"M 329.882292 81.681492 \r\nL 362.530208 81.681492 \r\nL 362.530208 81.592219 \r\nL 329.882292 81.592219 \r\nz\r\n\" style=\"fill:#17becf;\"/>\r\n   </g>\r\n   <g id=\"patch_62\">\r\n    <path clip-path=\"url(#pb59dbd4999)\" d=\"M 395.178125 77.562341 \r\nL 427.826042 77.562341 \r\nL 427.826042 77.473068 \r\nL 395.178125 77.473068 \r\nz\r\n\" style=\"fill:#17becf;\"/>\r\n   </g>\r\n   <g id=\"patch_63\">\r\n    <path clip-path=\"url(#pb59dbd4999)\" d=\"M 68.698958 14.648776 \r\nL 101.346875 14.648776 \r\nL 101.346875 14.457058 \r\nL 68.698958 14.457058 \r\nz\r\n\" style=\"fill:#1f77b4;\"/>\r\n   </g>\r\n   <g id=\"patch_64\">\r\n    <path clip-path=\"url(#pb59dbd4999)\" d=\"M 133.994792 134.976096 \r\nL 166.642708 134.976096 \r\nL 166.642708 134.975218 \r\nL 133.994792 134.975218 \r\nz\r\n\" style=\"fill:#1f77b4;\"/>\r\n   </g>\r\n   <g id=\"patch_65\">\r\n    <path clip-path=\"url(#pb59dbd4999)\" d=\"M 199.290625 122.994469 \r\nL 231.938542 122.994469 \r\nL 231.938542 122.935051 \r\nL 199.290625 122.935051 \r\nz\r\n\" style=\"fill:#1f77b4;\"/>\r\n   </g>\r\n   <g id=\"patch_66\">\r\n    <path clip-path=\"url(#pb59dbd4999)\" d=\"M 264.586458 83.070933 \r\nL 297.234375 83.070933 \r\nL 297.234375 83.004198 \r\nL 264.586458 83.004198 \r\nz\r\n\" style=\"fill:#1f77b4;\"/>\r\n   </g>\r\n   <g id=\"patch_67\">\r\n    <path clip-path=\"url(#pb59dbd4999)\" d=\"M 329.882292 81.592219 \r\nL 362.530208 81.592219 \r\nL 362.530208 81.522849 \r\nL 329.882292 81.522849 \r\nz\r\n\" style=\"fill:#1f77b4;\"/>\r\n   </g>\r\n   <g id=\"patch_68\">\r\n    <path clip-path=\"url(#pb59dbd4999)\" d=\"M 395.178125 77.473068 \r\nL 427.826042 77.473068 \r\nL 427.826042 77.403698 \r\nL 395.178125 77.403698 \r\nz\r\n\" style=\"fill:#1f77b4;\"/>\r\n   </g>\r\n   <g id=\"matplotlib.axis_1\">\r\n    <g id=\"xtick_1\">\r\n     <g id=\"line2d_1\">\r\n      <defs>\r\n       <path d=\"M 0 0 \r\nL 0 3.5 \r\n\" id=\"m4dae7967a9\" style=\"stroke:#000000;stroke-width:0.8;\"/>\r\n      </defs>\r\n      <g>\r\n       <use style=\"stroke:#000000;stroke-width:0.8;\" x=\"85.022917\" xlink:href=\"#m4dae7967a9\" y=\"159.598214\"/>\r\n      </g>\r\n     </g>\r\n     <g id=\"text_1\">\r\n      <!-- dataset -->\r\n      <g transform=\"translate(56.818195 198.705282)rotate(-45)scale(0.1 -0.1)\">\r\n       <defs>\r\n        <path d=\"M 2906 2969 \r\nL 2906 4863 \r\nL 3481 4863 \r\nL 3481 0 \r\nL 2906 0 \r\nL 2906 525 \r\nQ 2725 213 2448 61 \r\nQ 2172 -91 1784 -91 \r\nQ 1150 -91 751 415 \r\nQ 353 922 353 1747 \r\nQ 353 2572 751 3078 \r\nQ 1150 3584 1784 3584 \r\nQ 2172 3584 2448 3432 \r\nQ 2725 3281 2906 2969 \r\nz\r\nM 947 1747 \r\nQ 947 1113 1208 752 \r\nQ 1469 391 1925 391 \r\nQ 2381 391 2643 752 \r\nQ 2906 1113 2906 1747 \r\nQ 2906 2381 2643 2742 \r\nQ 2381 3103 1925 3103 \r\nQ 1469 3103 1208 2742 \r\nQ 947 2381 947 1747 \r\nz\r\n\" id=\"DejaVuSans-64\" transform=\"scale(0.015625)\"/>\r\n        <path d=\"M 2194 1759 \r\nQ 1497 1759 1228 1600 \r\nQ 959 1441 959 1056 \r\nQ 959 750 1161 570 \r\nQ 1363 391 1709 391 \r\nQ 2188 391 2477 730 \r\nQ 2766 1069 2766 1631 \r\nL 2766 1759 \r\nL 2194 1759 \r\nz\r\nM 3341 1997 \r\nL 3341 0 \r\nL 2766 0 \r\nL 2766 531 \r\nQ 2569 213 2275 61 \r\nQ 1981 -91 1556 -91 \r\nQ 1019 -91 701 211 \r\nQ 384 513 384 1019 \r\nQ 384 1609 779 1909 \r\nQ 1175 2209 1959 2209 \r\nL 2766 2209 \r\nL 2766 2266 \r\nQ 2766 2663 2505 2880 \r\nQ 2244 3097 1772 3097 \r\nQ 1472 3097 1187 3025 \r\nQ 903 2953 641 2809 \r\nL 641 3341 \r\nQ 956 3463 1253 3523 \r\nQ 1550 3584 1831 3584 \r\nQ 2591 3584 2966 3190 \r\nQ 3341 2797 3341 1997 \r\nz\r\n\" id=\"DejaVuSans-61\" transform=\"scale(0.015625)\"/>\r\n        <path d=\"M 1172 4494 \r\nL 1172 3500 \r\nL 2356 3500 \r\nL 2356 3053 \r\nL 1172 3053 \r\nL 1172 1153 \r\nQ 1172 725 1289 603 \r\nQ 1406 481 1766 481 \r\nL 2356 481 \r\nL 2356 0 \r\nL 1766 0 \r\nQ 1100 0 847 248 \r\nQ 594 497 594 1153 \r\nL 594 3053 \r\nL 172 3053 \r\nL 172 3500 \r\nL 594 3500 \r\nL 594 4494 \r\nL 1172 4494 \r\nz\r\n\" id=\"DejaVuSans-74\" transform=\"scale(0.015625)\"/>\r\n        <path d=\"M 2834 3397 \r\nL 2834 2853 \r\nQ 2591 2978 2328 3040 \r\nQ 2066 3103 1784 3103 \r\nQ 1356 3103 1142 2972 \r\nQ 928 2841 928 2578 \r\nQ 928 2378 1081 2264 \r\nQ 1234 2150 1697 2047 \r\nL 1894 2003 \r\nQ 2506 1872 2764 1633 \r\nQ 3022 1394 3022 966 \r\nQ 3022 478 2636 193 \r\nQ 2250 -91 1575 -91 \r\nQ 1294 -91 989 -36 \r\nQ 684 19 347 128 \r\nL 347 722 \r\nQ 666 556 975 473 \r\nQ 1284 391 1588 391 \r\nQ 1994 391 2212 530 \r\nQ 2431 669 2431 922 \r\nQ 2431 1156 2273 1281 \r\nQ 2116 1406 1581 1522 \r\nL 1381 1569 \r\nQ 847 1681 609 1914 \r\nQ 372 2147 372 2553 \r\nQ 372 3047 722 3315 \r\nQ 1072 3584 1716 3584 \r\nQ 2034 3584 2315 3537 \r\nQ 2597 3491 2834 3397 \r\nz\r\n\" id=\"DejaVuSans-73\" transform=\"scale(0.015625)\"/>\r\n        <path d=\"M 3597 1894 \r\nL 3597 1613 \r\nL 953 1613 \r\nQ 991 1019 1311 708 \r\nQ 1631 397 2203 397 \r\nQ 2534 397 2845 478 \r\nQ 3156 559 3463 722 \r\nL 3463 178 \r\nQ 3153 47 2828 -22 \r\nQ 2503 -91 2169 -91 \r\nQ 1331 -91 842 396 \r\nQ 353 884 353 1716 \r\nQ 353 2575 817 3079 \r\nQ 1281 3584 2069 3584 \r\nQ 2775 3584 3186 3129 \r\nQ 3597 2675 3597 1894 \r\nz\r\nM 3022 2063 \r\nQ 3016 2534 2758 2815 \r\nQ 2500 3097 2075 3097 \r\nQ 1594 3097 1305 2825 \r\nQ 1016 2553 972 2059 \r\nL 3022 2063 \r\nz\r\n\" id=\"DejaVuSans-65\" transform=\"scale(0.015625)\"/>\r\n       </defs>\r\n       <use xlink:href=\"#DejaVuSans-64\"/>\r\n       <use x=\"63.476562\" xlink:href=\"#DejaVuSans-61\"/>\r\n       <use x=\"124.755859\" xlink:href=\"#DejaVuSans-74\"/>\r\n       <use x=\"163.964844\" xlink:href=\"#DejaVuSans-61\"/>\r\n       <use x=\"225.244141\" xlink:href=\"#DejaVuSans-73\"/>\r\n       <use x=\"277.34375\" xlink:href=\"#DejaVuSans-65\"/>\r\n       <use x=\"338.867188\" xlink:href=\"#DejaVuSans-74\"/>\r\n      </g>\r\n     </g>\r\n    </g>\r\n    <g id=\"xtick_2\">\r\n     <g id=\"line2d_2\">\r\n      <g>\r\n       <use style=\"stroke:#000000;stroke-width:0.8;\" x=\"150.31875\" xlink:href=\"#m4dae7967a9\" y=\"159.598214\"/>\r\n      </g>\r\n     </g>\r\n     <g id=\"text_2\">\r\n      <!-- subset1 -->\r\n      <g transform=\"translate(120.888745 199.930565)rotate(-45)scale(0.1 -0.1)\">\r\n       <defs>\r\n        <path d=\"M 544 1381 \r\nL 544 3500 \r\nL 1119 3500 \r\nL 1119 1403 \r\nQ 1119 906 1312 657 \r\nQ 1506 409 1894 409 \r\nQ 2359 409 2629 706 \r\nQ 2900 1003 2900 1516 \r\nL 2900 3500 \r\nL 3475 3500 \r\nL 3475 0 \r\nL 2900 0 \r\nL 2900 538 \r\nQ 2691 219 2414 64 \r\nQ 2138 -91 1772 -91 \r\nQ 1169 -91 856 284 \r\nQ 544 659 544 1381 \r\nz\r\nM 1991 3584 \r\nL 1991 3584 \r\nz\r\n\" id=\"DejaVuSans-75\" transform=\"scale(0.015625)\"/>\r\n        <path d=\"M 3116 1747 \r\nQ 3116 2381 2855 2742 \r\nQ 2594 3103 2138 3103 \r\nQ 1681 3103 1420 2742 \r\nQ 1159 2381 1159 1747 \r\nQ 1159 1113 1420 752 \r\nQ 1681 391 2138 391 \r\nQ 2594 391 2855 752 \r\nQ 3116 1113 3116 1747 \r\nz\r\nM 1159 2969 \r\nQ 1341 3281 1617 3432 \r\nQ 1894 3584 2278 3584 \r\nQ 2916 3584 3314 3078 \r\nQ 3713 2572 3713 1747 \r\nQ 3713 922 3314 415 \r\nQ 2916 -91 2278 -91 \r\nQ 1894 -91 1617 61 \r\nQ 1341 213 1159 525 \r\nL 1159 0 \r\nL 581 0 \r\nL 581 4863 \r\nL 1159 4863 \r\nL 1159 2969 \r\nz\r\n\" id=\"DejaVuSans-62\" transform=\"scale(0.015625)\"/>\r\n        <path d=\"M 794 531 \r\nL 1825 531 \r\nL 1825 4091 \r\nL 703 3866 \r\nL 703 4441 \r\nL 1819 4666 \r\nL 2450 4666 \r\nL 2450 531 \r\nL 3481 531 \r\nL 3481 0 \r\nL 794 0 \r\nL 794 531 \r\nz\r\n\" id=\"DejaVuSans-31\" transform=\"scale(0.015625)\"/>\r\n       </defs>\r\n       <use xlink:href=\"#DejaVuSans-73\"/>\r\n       <use x=\"52.099609\" xlink:href=\"#DejaVuSans-75\"/>\r\n       <use x=\"115.478516\" xlink:href=\"#DejaVuSans-62\"/>\r\n       <use x=\"178.955078\" xlink:href=\"#DejaVuSans-73\"/>\r\n       <use x=\"231.054688\" xlink:href=\"#DejaVuSans-65\"/>\r\n       <use x=\"292.578125\" xlink:href=\"#DejaVuSans-74\"/>\r\n       <use x=\"331.787109\" xlink:href=\"#DejaVuSans-31\"/>\r\n      </g>\r\n     </g>\r\n    </g>\r\n    <g id=\"xtick_3\">\r\n     <g id=\"line2d_3\">\r\n      <g>\r\n       <use style=\"stroke:#000000;stroke-width:0.8;\" x=\"215.614583\" xlink:href=\"#m4dae7967a9\" y=\"159.598214\"/>\r\n      </g>\r\n     </g>\r\n     <g id=\"text_3\">\r\n      <!-- subset2 -->\r\n      <g transform=\"translate(186.184578 199.930565)rotate(-45)scale(0.1 -0.1)\">\r\n       <defs>\r\n        <path d=\"M 1228 531 \r\nL 3431 531 \r\nL 3431 0 \r\nL 469 0 \r\nL 469 531 \r\nQ 828 903 1448 1529 \r\nQ 2069 2156 2228 2338 \r\nQ 2531 2678 2651 2914 \r\nQ 2772 3150 2772 3378 \r\nQ 2772 3750 2511 3984 \r\nQ 2250 4219 1831 4219 \r\nQ 1534 4219 1204 4116 \r\nQ 875 4013 500 3803 \r\nL 500 4441 \r\nQ 881 4594 1212 4672 \r\nQ 1544 4750 1819 4750 \r\nQ 2544 4750 2975 4387 \r\nQ 3406 4025 3406 3419 \r\nQ 3406 3131 3298 2873 \r\nQ 3191 2616 2906 2266 \r\nQ 2828 2175 2409 1742 \r\nQ 1991 1309 1228 531 \r\nz\r\n\" id=\"DejaVuSans-32\" transform=\"scale(0.015625)\"/>\r\n       </defs>\r\n       <use xlink:href=\"#DejaVuSans-73\"/>\r\n       <use x=\"52.099609\" xlink:href=\"#DejaVuSans-75\"/>\r\n       <use x=\"115.478516\" xlink:href=\"#DejaVuSans-62\"/>\r\n       <use x=\"178.955078\" xlink:href=\"#DejaVuSans-73\"/>\r\n       <use x=\"231.054688\" xlink:href=\"#DejaVuSans-65\"/>\r\n       <use x=\"292.578125\" xlink:href=\"#DejaVuSans-74\"/>\r\n       <use x=\"331.787109\" xlink:href=\"#DejaVuSans-32\"/>\r\n      </g>\r\n     </g>\r\n    </g>\r\n    <g id=\"xtick_4\">\r\n     <g id=\"line2d_4\">\r\n      <g>\r\n       <use style=\"stroke:#000000;stroke-width:0.8;\" x=\"280.910417\" xlink:href=\"#m4dae7967a9\" y=\"159.598214\"/>\r\n      </g>\r\n     </g>\r\n     <g id=\"text_4\">\r\n      <!-- subset3 -->\r\n      <g transform=\"translate(251.480411 199.930565)rotate(-45)scale(0.1 -0.1)\">\r\n       <defs>\r\n        <path d=\"M 2597 2516 \r\nQ 3050 2419 3304 2112 \r\nQ 3559 1806 3559 1356 \r\nQ 3559 666 3084 287 \r\nQ 2609 -91 1734 -91 \r\nQ 1441 -91 1130 -33 \r\nQ 819 25 488 141 \r\nL 488 750 \r\nQ 750 597 1062 519 \r\nQ 1375 441 1716 441 \r\nQ 2309 441 2620 675 \r\nQ 2931 909 2931 1356 \r\nQ 2931 1769 2642 2001 \r\nQ 2353 2234 1838 2234 \r\nL 1294 2234 \r\nL 1294 2753 \r\nL 1863 2753 \r\nQ 2328 2753 2575 2939 \r\nQ 2822 3125 2822 3475 \r\nQ 2822 3834 2567 4026 \r\nQ 2313 4219 1838 4219 \r\nQ 1578 4219 1281 4162 \r\nQ 984 4106 628 3988 \r\nL 628 4550 \r\nQ 988 4650 1302 4700 \r\nQ 1616 4750 1894 4750 \r\nQ 2613 4750 3031 4423 \r\nQ 3450 4097 3450 3541 \r\nQ 3450 3153 3228 2886 \r\nQ 3006 2619 2597 2516 \r\nz\r\n\" id=\"DejaVuSans-33\" transform=\"scale(0.015625)\"/>\r\n       </defs>\r\n       <use xlink:href=\"#DejaVuSans-73\"/>\r\n       <use x=\"52.099609\" xlink:href=\"#DejaVuSans-75\"/>\r\n       <use x=\"115.478516\" xlink:href=\"#DejaVuSans-62\"/>\r\n       <use x=\"178.955078\" xlink:href=\"#DejaVuSans-73\"/>\r\n       <use x=\"231.054688\" xlink:href=\"#DejaVuSans-65\"/>\r\n       <use x=\"292.578125\" xlink:href=\"#DejaVuSans-74\"/>\r\n       <use x=\"331.787109\" xlink:href=\"#DejaVuSans-33\"/>\r\n      </g>\r\n     </g>\r\n    </g>\r\n    <g id=\"xtick_5\">\r\n     <g id=\"line2d_5\">\r\n      <g>\r\n       <use style=\"stroke:#000000;stroke-width:0.8;\" x=\"346.20625\" xlink:href=\"#m4dae7967a9\" y=\"159.598214\"/>\r\n      </g>\r\n     </g>\r\n     <g id=\"text_5\">\r\n      <!-- subset4 -->\r\n      <g transform=\"translate(316.776245 199.930565)rotate(-45)scale(0.1 -0.1)\">\r\n       <defs>\r\n        <path d=\"M 2419 4116 \r\nL 825 1625 \r\nL 2419 1625 \r\nL 2419 4116 \r\nz\r\nM 2253 4666 \r\nL 3047 4666 \r\nL 3047 1625 \r\nL 3713 1625 \r\nL 3713 1100 \r\nL 3047 1100 \r\nL 3047 0 \r\nL 2419 0 \r\nL 2419 1100 \r\nL 313 1100 \r\nL 313 1709 \r\nL 2253 4666 \r\nz\r\n\" id=\"DejaVuSans-34\" transform=\"scale(0.015625)\"/>\r\n       </defs>\r\n       <use xlink:href=\"#DejaVuSans-73\"/>\r\n       <use x=\"52.099609\" xlink:href=\"#DejaVuSans-75\"/>\r\n       <use x=\"115.478516\" xlink:href=\"#DejaVuSans-62\"/>\r\n       <use x=\"178.955078\" xlink:href=\"#DejaVuSans-73\"/>\r\n       <use x=\"231.054688\" xlink:href=\"#DejaVuSans-65\"/>\r\n       <use x=\"292.578125\" xlink:href=\"#DejaVuSans-74\"/>\r\n       <use x=\"331.787109\" xlink:href=\"#DejaVuSans-34\"/>\r\n      </g>\r\n     </g>\r\n    </g>\r\n    <g id=\"xtick_6\">\r\n     <g id=\"line2d_6\">\r\n      <g>\r\n       <use style=\"stroke:#000000;stroke-width:0.8;\" x=\"411.502083\" xlink:href=\"#m4dae7967a9\" y=\"159.598214\"/>\r\n      </g>\r\n     </g>\r\n     <g id=\"text_6\">\r\n      <!-- subset5 -->\r\n      <g transform=\"translate(382.072078 199.930565)rotate(-45)scale(0.1 -0.1)\">\r\n       <defs>\r\n        <path d=\"M 691 4666 \r\nL 3169 4666 \r\nL 3169 4134 \r\nL 1269 4134 \r\nL 1269 2991 \r\nQ 1406 3038 1543 3061 \r\nQ 1681 3084 1819 3084 \r\nQ 2600 3084 3056 2656 \r\nQ 3513 2228 3513 1497 \r\nQ 3513 744 3044 326 \r\nQ 2575 -91 1722 -91 \r\nQ 1428 -91 1123 -41 \r\nQ 819 9 494 109 \r\nL 494 744 \r\nQ 775 591 1075 516 \r\nQ 1375 441 1709 441 \r\nQ 2250 441 2565 725 \r\nQ 2881 1009 2881 1497 \r\nQ 2881 1984 2565 2268 \r\nQ 2250 2553 1709 2553 \r\nQ 1456 2553 1204 2497 \r\nQ 953 2441 691 2322 \r\nL 691 4666 \r\nz\r\n\" id=\"DejaVuSans-35\" transform=\"scale(0.015625)\"/>\r\n       </defs>\r\n       <use xlink:href=\"#DejaVuSans-73\"/>\r\n       <use x=\"52.099609\" xlink:href=\"#DejaVuSans-75\"/>\r\n       <use x=\"115.478516\" xlink:href=\"#DejaVuSans-62\"/>\r\n       <use x=\"178.955078\" xlink:href=\"#DejaVuSans-73\"/>\r\n       <use x=\"231.054688\" xlink:href=\"#DejaVuSans-65\"/>\r\n       <use x=\"292.578125\" xlink:href=\"#DejaVuSans-74\"/>\r\n       <use x=\"331.787109\" xlink:href=\"#DejaVuSans-35\"/>\r\n      </g>\r\n     </g>\r\n    </g>\r\n   </g>\r\n   <g id=\"matplotlib.axis_2\">\r\n    <g id=\"ytick_1\">\r\n     <g id=\"line2d_7\">\r\n      <defs>\r\n       <path d=\"M 0 0 \r\nL -3.5 0 \r\n\" id=\"m4d935e7878\" style=\"stroke:#000000;stroke-width:0.8;\"/>\r\n      </defs>\r\n      <g>\r\n       <use style=\"stroke:#000000;stroke-width:0.8;\" x=\"52.375\" xlink:href=\"#m4d935e7878\" y=\"159.598214\"/>\r\n      </g>\r\n     </g>\r\n     <g id=\"text_7\">\r\n      <!-- 0 -->\r\n      <g transform=\"translate(39.0125 163.397433)scale(0.1 -0.1)\">\r\n       <defs>\r\n        <path d=\"M 2034 4250 \r\nQ 1547 4250 1301 3770 \r\nQ 1056 3291 1056 2328 \r\nQ 1056 1369 1301 889 \r\nQ 1547 409 2034 409 \r\nQ 2525 409 2770 889 \r\nQ 3016 1369 3016 2328 \r\nQ 3016 3291 2770 3770 \r\nQ 2525 4250 2034 4250 \r\nz\r\nM 2034 4750 \r\nQ 2819 4750 3233 4129 \r\nQ 3647 3509 3647 2328 \r\nQ 3647 1150 3233 529 \r\nQ 2819 -91 2034 -91 \r\nQ 1250 -91 836 529 \r\nQ 422 1150 422 2328 \r\nQ 422 3509 836 4129 \r\nQ 1250 4750 2034 4750 \r\nz\r\n\" id=\"DejaVuSans-30\" transform=\"scale(0.015625)\"/>\r\n       </defs>\r\n       <use xlink:href=\"#DejaVuSans-30\"/>\r\n      </g>\r\n     </g>\r\n    </g>\r\n    <g id=\"ytick_2\">\r\n     <g id=\"line2d_8\">\r\n      <g>\r\n       <use style=\"stroke:#000000;stroke-width:0.8;\" x=\"52.375\" xlink:href=\"#m4d935e7878\" y=\"130.328331\"/>\r\n      </g>\r\n     </g>\r\n     <g id=\"text_8\">\r\n      <!-- 100000 -->\r\n      <g transform=\"translate(7.2 134.12755)scale(0.1 -0.1)\">\r\n       <use xlink:href=\"#DejaVuSans-31\"/>\r\n       <use x=\"63.623047\" xlink:href=\"#DejaVuSans-30\"/>\r\n       <use x=\"127.246094\" xlink:href=\"#DejaVuSans-30\"/>\r\n       <use x=\"190.869141\" xlink:href=\"#DejaVuSans-30\"/>\r\n       <use x=\"254.492188\" xlink:href=\"#DejaVuSans-30\"/>\r\n       <use x=\"318.115234\" xlink:href=\"#DejaVuSans-30\"/>\r\n      </g>\r\n     </g>\r\n    </g>\r\n    <g id=\"ytick_3\">\r\n     <g id=\"line2d_9\">\r\n      <g>\r\n       <use style=\"stroke:#000000;stroke-width:0.8;\" x=\"52.375\" xlink:href=\"#m4d935e7878\" y=\"101.058447\"/>\r\n      </g>\r\n     </g>\r\n     <g id=\"text_9\">\r\n      <!-- 200000 -->\r\n      <g transform=\"translate(7.2 104.857666)scale(0.1 -0.1)\">\r\n       <use xlink:href=\"#DejaVuSans-32\"/>\r\n       <use x=\"63.623047\" xlink:href=\"#DejaVuSans-30\"/>\r\n       <use x=\"127.246094\" xlink:href=\"#DejaVuSans-30\"/>\r\n       <use x=\"190.869141\" xlink:href=\"#DejaVuSans-30\"/>\r\n       <use x=\"254.492188\" xlink:href=\"#DejaVuSans-30\"/>\r\n       <use x=\"318.115234\" xlink:href=\"#DejaVuSans-30\"/>\r\n      </g>\r\n     </g>\r\n    </g>\r\n    <g id=\"ytick_4\">\r\n     <g id=\"line2d_10\">\r\n      <g>\r\n       <use style=\"stroke:#000000;stroke-width:0.8;\" x=\"52.375\" xlink:href=\"#m4d935e7878\" y=\"71.788564\"/>\r\n      </g>\r\n     </g>\r\n     <g id=\"text_10\">\r\n      <!-- 300000 -->\r\n      <g transform=\"translate(7.2 75.587783)scale(0.1 -0.1)\">\r\n       <use xlink:href=\"#DejaVuSans-33\"/>\r\n       <use x=\"63.623047\" xlink:href=\"#DejaVuSans-30\"/>\r\n       <use x=\"127.246094\" xlink:href=\"#DejaVuSans-30\"/>\r\n       <use x=\"190.869141\" xlink:href=\"#DejaVuSans-30\"/>\r\n       <use x=\"254.492188\" xlink:href=\"#DejaVuSans-30\"/>\r\n       <use x=\"318.115234\" xlink:href=\"#DejaVuSans-30\"/>\r\n      </g>\r\n     </g>\r\n    </g>\r\n    <g id=\"ytick_5\">\r\n     <g id=\"line2d_11\">\r\n      <g>\r\n       <use style=\"stroke:#000000;stroke-width:0.8;\" x=\"52.375\" xlink:href=\"#m4d935e7878\" y=\"42.51868\"/>\r\n      </g>\r\n     </g>\r\n     <g id=\"text_11\">\r\n      <!-- 400000 -->\r\n      <g transform=\"translate(7.2 46.317899)scale(0.1 -0.1)\">\r\n       <use xlink:href=\"#DejaVuSans-34\"/>\r\n       <use x=\"63.623047\" xlink:href=\"#DejaVuSans-30\"/>\r\n       <use x=\"127.246094\" xlink:href=\"#DejaVuSans-30\"/>\r\n       <use x=\"190.869141\" xlink:href=\"#DejaVuSans-30\"/>\r\n       <use x=\"254.492188\" xlink:href=\"#DejaVuSans-30\"/>\r\n       <use x=\"318.115234\" xlink:href=\"#DejaVuSans-30\"/>\r\n      </g>\r\n     </g>\r\n    </g>\r\n    <g id=\"ytick_6\">\r\n     <g id=\"line2d_12\">\r\n      <g>\r\n       <use style=\"stroke:#000000;stroke-width:0.8;\" x=\"52.375\" xlink:href=\"#m4d935e7878\" y=\"13.248797\"/>\r\n      </g>\r\n     </g>\r\n     <g id=\"text_12\">\r\n      <!-- 500000 -->\r\n      <g transform=\"translate(7.2 17.048016)scale(0.1 -0.1)\">\r\n       <use xlink:href=\"#DejaVuSans-35\"/>\r\n       <use x=\"63.623047\" xlink:href=\"#DejaVuSans-30\"/>\r\n       <use x=\"127.246094\" xlink:href=\"#DejaVuSans-30\"/>\r\n       <use x=\"190.869141\" xlink:href=\"#DejaVuSans-30\"/>\r\n       <use x=\"254.492188\" xlink:href=\"#DejaVuSans-30\"/>\r\n       <use x=\"318.115234\" xlink:href=\"#DejaVuSans-30\"/>\r\n      </g>\r\n     </g>\r\n    </g>\r\n   </g>\r\n   <g id=\"patch_69\">\r\n    <path d=\"M 52.375 159.598214 \r\nL 52.375 7.2 \r\n\" style=\"fill:none;stroke:#000000;stroke-linecap:square;stroke-linejoin:miter;stroke-width:0.8;\"/>\r\n   </g>\r\n   <g id=\"patch_70\">\r\n    <path d=\"M 444.15 159.598214 \r\nL 444.15 7.2 \r\n\" style=\"fill:none;stroke:#000000;stroke-linecap:square;stroke-linejoin:miter;stroke-width:0.8;\"/>\r\n   </g>\r\n   <g id=\"patch_71\">\r\n    <path d=\"M 52.375 159.598214 \r\nL 444.15 159.598214 \r\n\" style=\"fill:none;stroke:#000000;stroke-linecap:square;stroke-linejoin:miter;stroke-width:0.8;\"/>\r\n   </g>\r\n   <g id=\"patch_72\">\r\n    <path d=\"M 52.375 7.2 \r\nL 444.15 7.2 \r\n\" style=\"fill:none;stroke:#000000;stroke-linecap:square;stroke-linejoin:miter;stroke-width:0.8;\"/>\r\n   </g>\r\n   <g id=\"legend_1\">\r\n    <g id=\"patch_73\">\r\n     <path d=\"M 451.15 176.659375 \r\nL 560.701563 176.659375 \r\nQ 562.701563 176.659375 562.701563 174.659375 \r\nL 562.701563 14.2 \r\nQ 562.701563 12.2 560.701563 12.2 \r\nL 451.15 12.2 \r\nQ 449.15 12.2 449.15 14.2 \r\nL 449.15 174.659375 \r\nQ 449.15 176.659375 451.15 176.659375 \r\nz\r\n\" style=\"fill:#ffffff;opacity:0.8;stroke:#cccccc;stroke-linejoin:miter;\"/>\r\n    </g>\r\n    <g id=\"patch_74\">\r\n     <path d=\"M 453.15 23.798437 \r\nL 473.15 23.798437 \r\nL 473.15 16.798437 \r\nL 453.15 16.798437 \r\nz\r\n\" style=\"fill:#1f77b4;\"/>\r\n    </g>\r\n    <g id=\"text_13\">\r\n     <!-- lepidoptera -->\r\n     <g transform=\"translate(481.15 23.798437)scale(0.1 -0.1)\">\r\n      <defs>\r\n       <path d=\"M 603 4863 \r\nL 1178 4863 \r\nL 1178 0 \r\nL 603 0 \r\nL 603 4863 \r\nz\r\n\" id=\"DejaVuSans-6c\" transform=\"scale(0.015625)\"/>\r\n       <path d=\"M 1159 525 \r\nL 1159 -1331 \r\nL 581 -1331 \r\nL 581 3500 \r\nL 1159 3500 \r\nL 1159 2969 \r\nQ 1341 3281 1617 3432 \r\nQ 1894 3584 2278 3584 \r\nQ 2916 3584 3314 3078 \r\nQ 3713 2572 3713 1747 \r\nQ 3713 922 3314 415 \r\nQ 2916 -91 2278 -91 \r\nQ 1894 -91 1617 61 \r\nQ 1341 213 1159 525 \r\nz\r\nM 3116 1747 \r\nQ 3116 2381 2855 2742 \r\nQ 2594 3103 2138 3103 \r\nQ 1681 3103 1420 2742 \r\nQ 1159 2381 1159 1747 \r\nQ 1159 1113 1420 752 \r\nQ 1681 391 2138 391 \r\nQ 2594 391 2855 752 \r\nQ 3116 1113 3116 1747 \r\nz\r\n\" id=\"DejaVuSans-70\" transform=\"scale(0.015625)\"/>\r\n       <path d=\"M 603 3500 \r\nL 1178 3500 \r\nL 1178 0 \r\nL 603 0 \r\nL 603 3500 \r\nz\r\nM 603 4863 \r\nL 1178 4863 \r\nL 1178 4134 \r\nL 603 4134 \r\nL 603 4863 \r\nz\r\n\" id=\"DejaVuSans-69\" transform=\"scale(0.015625)\"/>\r\n       <path d=\"M 1959 3097 \r\nQ 1497 3097 1228 2736 \r\nQ 959 2375 959 1747 \r\nQ 959 1119 1226 758 \r\nQ 1494 397 1959 397 \r\nQ 2419 397 2687 759 \r\nQ 2956 1122 2956 1747 \r\nQ 2956 2369 2687 2733 \r\nQ 2419 3097 1959 3097 \r\nz\r\nM 1959 3584 \r\nQ 2709 3584 3137 3096 \r\nQ 3566 2609 3566 1747 \r\nQ 3566 888 3137 398 \r\nQ 2709 -91 1959 -91 \r\nQ 1206 -91 779 398 \r\nQ 353 888 353 1747 \r\nQ 353 2609 779 3096 \r\nQ 1206 3584 1959 3584 \r\nz\r\n\" id=\"DejaVuSans-6f\" transform=\"scale(0.015625)\"/>\r\n       <path d=\"M 2631 2963 \r\nQ 2534 3019 2420 3045 \r\nQ 2306 3072 2169 3072 \r\nQ 1681 3072 1420 2755 \r\nQ 1159 2438 1159 1844 \r\nL 1159 0 \r\nL 581 0 \r\nL 581 3500 \r\nL 1159 3500 \r\nL 1159 2956 \r\nQ 1341 3275 1631 3429 \r\nQ 1922 3584 2338 3584 \r\nQ 2397 3584 2469 3576 \r\nQ 2541 3569 2628 3553 \r\nL 2631 2963 \r\nz\r\n\" id=\"DejaVuSans-72\" transform=\"scale(0.015625)\"/>\r\n      </defs>\r\n      <use xlink:href=\"#DejaVuSans-6c\"/>\r\n      <use x=\"27.783203\" xlink:href=\"#DejaVuSans-65\"/>\r\n      <use x=\"89.306641\" xlink:href=\"#DejaVuSans-70\"/>\r\n      <use x=\"152.783203\" xlink:href=\"#DejaVuSans-69\"/>\r\n      <use x=\"180.566406\" xlink:href=\"#DejaVuSans-64\"/>\r\n      <use x=\"244.042969\" xlink:href=\"#DejaVuSans-6f\"/>\r\n      <use x=\"305.224609\" xlink:href=\"#DejaVuSans-70\"/>\r\n      <use x=\"368.701172\" xlink:href=\"#DejaVuSans-74\"/>\r\n      <use x=\"407.910156\" xlink:href=\"#DejaVuSans-65\"/>\r\n      <use x=\"469.433594\" xlink:href=\"#DejaVuSans-72\"/>\r\n      <use x=\"510.546875\" xlink:href=\"#DejaVuSans-61\"/>\r\n     </g>\r\n    </g>\r\n    <g id=\"patch_75\">\r\n     <path d=\"M 453.15 38.476562 \r\nL 473.15 38.476562 \r\nL 473.15 31.476562 \r\nL 453.15 31.476562 \r\nz\r\n\" style=\"fill:#ff7f0e;\"/>\r\n    </g>\r\n    <g id=\"text_14\">\r\n     <!-- hemiptera -->\r\n     <g transform=\"translate(481.15 38.476562)scale(0.1 -0.1)\">\r\n      <defs>\r\n       <path d=\"M 3513 2113 \r\nL 3513 0 \r\nL 2938 0 \r\nL 2938 2094 \r\nQ 2938 2591 2744 2837 \r\nQ 2550 3084 2163 3084 \r\nQ 1697 3084 1428 2787 \r\nQ 1159 2491 1159 1978 \r\nL 1159 0 \r\nL 581 0 \r\nL 581 4863 \r\nL 1159 4863 \r\nL 1159 2956 \r\nQ 1366 3272 1645 3428 \r\nQ 1925 3584 2291 3584 \r\nQ 2894 3584 3203 3211 \r\nQ 3513 2838 3513 2113 \r\nz\r\n\" id=\"DejaVuSans-68\" transform=\"scale(0.015625)\"/>\r\n       <path d=\"M 3328 2828 \r\nQ 3544 3216 3844 3400 \r\nQ 4144 3584 4550 3584 \r\nQ 5097 3584 5394 3201 \r\nQ 5691 2819 5691 2113 \r\nL 5691 0 \r\nL 5113 0 \r\nL 5113 2094 \r\nQ 5113 2597 4934 2840 \r\nQ 4756 3084 4391 3084 \r\nQ 3944 3084 3684 2787 \r\nQ 3425 2491 3425 1978 \r\nL 3425 0 \r\nL 2847 0 \r\nL 2847 2094 \r\nQ 2847 2600 2669 2842 \r\nQ 2491 3084 2119 3084 \r\nQ 1678 3084 1418 2786 \r\nQ 1159 2488 1159 1978 \r\nL 1159 0 \r\nL 581 0 \r\nL 581 3500 \r\nL 1159 3500 \r\nL 1159 2956 \r\nQ 1356 3278 1631 3431 \r\nQ 1906 3584 2284 3584 \r\nQ 2666 3584 2933 3390 \r\nQ 3200 3197 3328 2828 \r\nz\r\n\" id=\"DejaVuSans-6d\" transform=\"scale(0.015625)\"/>\r\n      </defs>\r\n      <use xlink:href=\"#DejaVuSans-68\"/>\r\n      <use x=\"63.378906\" xlink:href=\"#DejaVuSans-65\"/>\r\n      <use x=\"124.902344\" xlink:href=\"#DejaVuSans-6d\"/>\r\n      <use x=\"222.314453\" xlink:href=\"#DejaVuSans-69\"/>\r\n      <use x=\"250.097656\" xlink:href=\"#DejaVuSans-70\"/>\r\n      <use x=\"313.574219\" xlink:href=\"#DejaVuSans-74\"/>\r\n      <use x=\"352.783203\" xlink:href=\"#DejaVuSans-65\"/>\r\n      <use x=\"414.306641\" xlink:href=\"#DejaVuSans-72\"/>\r\n      <use x=\"455.419922\" xlink:href=\"#DejaVuSans-61\"/>\r\n     </g>\r\n    </g>\r\n    <g id=\"patch_76\">\r\n     <path d=\"M 453.15 53.154687 \r\nL 473.15 53.154687 \r\nL 473.15 46.154687 \r\nL 453.15 46.154687 \r\nz\r\n\" style=\"fill:#2ca02c;\"/>\r\n    </g>\r\n    <g id=\"text_15\">\r\n     <!-- hymenoptera -->\r\n     <g transform=\"translate(481.15 53.154687)scale(0.1 -0.1)\">\r\n      <defs>\r\n       <path d=\"M 2059 -325 \r\nQ 1816 -950 1584 -1140 \r\nQ 1353 -1331 966 -1331 \r\nL 506 -1331 \r\nL 506 -850 \r\nL 844 -850 \r\nQ 1081 -850 1212 -737 \r\nQ 1344 -625 1503 -206 \r\nL 1606 56 \r\nL 191 3500 \r\nL 800 3500 \r\nL 1894 763 \r\nL 2988 3500 \r\nL 3597 3500 \r\nL 2059 -325 \r\nz\r\n\" id=\"DejaVuSans-79\" transform=\"scale(0.015625)\"/>\r\n       <path d=\"M 3513 2113 \r\nL 3513 0 \r\nL 2938 0 \r\nL 2938 2094 \r\nQ 2938 2591 2744 2837 \r\nQ 2550 3084 2163 3084 \r\nQ 1697 3084 1428 2787 \r\nQ 1159 2491 1159 1978 \r\nL 1159 0 \r\nL 581 0 \r\nL 581 3500 \r\nL 1159 3500 \r\nL 1159 2956 \r\nQ 1366 3272 1645 3428 \r\nQ 1925 3584 2291 3584 \r\nQ 2894 3584 3203 3211 \r\nQ 3513 2838 3513 2113 \r\nz\r\n\" id=\"DejaVuSans-6e\" transform=\"scale(0.015625)\"/>\r\n      </defs>\r\n      <use xlink:href=\"#DejaVuSans-68\"/>\r\n      <use x=\"63.378906\" xlink:href=\"#DejaVuSans-79\"/>\r\n      <use x=\"122.558594\" xlink:href=\"#DejaVuSans-6d\"/>\r\n      <use x=\"219.970703\" xlink:href=\"#DejaVuSans-65\"/>\r\n      <use x=\"281.494141\" xlink:href=\"#DejaVuSans-6e\"/>\r\n      <use x=\"344.873047\" xlink:href=\"#DejaVuSans-6f\"/>\r\n      <use x=\"406.054688\" xlink:href=\"#DejaVuSans-70\"/>\r\n      <use x=\"469.53125\" xlink:href=\"#DejaVuSans-74\"/>\r\n      <use x=\"508.740234\" xlink:href=\"#DejaVuSans-65\"/>\r\n      <use x=\"570.263672\" xlink:href=\"#DejaVuSans-72\"/>\r\n      <use x=\"611.376953\" xlink:href=\"#DejaVuSans-61\"/>\r\n     </g>\r\n    </g>\r\n    <g id=\"patch_77\">\r\n     <path d=\"M 453.15 67.832812 \r\nL 473.15 67.832812 \r\nL 473.15 60.832812 \r\nL 453.15 60.832812 \r\nz\r\n\" style=\"fill:#d62728;\"/>\r\n    </g>\r\n    <g id=\"text_16\">\r\n     <!-- coleoptera -->\r\n     <g transform=\"translate(481.15 67.832812)scale(0.1 -0.1)\">\r\n      <defs>\r\n       <path d=\"M 3122 3366 \r\nL 3122 2828 \r\nQ 2878 2963 2633 3030 \r\nQ 2388 3097 2138 3097 \r\nQ 1578 3097 1268 2742 \r\nQ 959 2388 959 1747 \r\nQ 959 1106 1268 751 \r\nQ 1578 397 2138 397 \r\nQ 2388 397 2633 464 \r\nQ 2878 531 3122 666 \r\nL 3122 134 \r\nQ 2881 22 2623 -34 \r\nQ 2366 -91 2075 -91 \r\nQ 1284 -91 818 406 \r\nQ 353 903 353 1747 \r\nQ 353 2603 823 3093 \r\nQ 1294 3584 2113 3584 \r\nQ 2378 3584 2631 3529 \r\nQ 2884 3475 3122 3366 \r\nz\r\n\" id=\"DejaVuSans-63\" transform=\"scale(0.015625)\"/>\r\n      </defs>\r\n      <use xlink:href=\"#DejaVuSans-63\"/>\r\n      <use x=\"54.980469\" xlink:href=\"#DejaVuSans-6f\"/>\r\n      <use x=\"116.162109\" xlink:href=\"#DejaVuSans-6c\"/>\r\n      <use x=\"143.945312\" xlink:href=\"#DejaVuSans-65\"/>\r\n      <use x=\"205.46875\" xlink:href=\"#DejaVuSans-6f\"/>\r\n      <use x=\"266.650391\" xlink:href=\"#DejaVuSans-70\"/>\r\n      <use x=\"330.126953\" xlink:href=\"#DejaVuSans-74\"/>\r\n      <use x=\"369.335938\" xlink:href=\"#DejaVuSans-65\"/>\r\n      <use x=\"430.859375\" xlink:href=\"#DejaVuSans-72\"/>\r\n      <use x=\"471.972656\" xlink:href=\"#DejaVuSans-61\"/>\r\n     </g>\r\n    </g>\r\n    <g id=\"patch_78\">\r\n     <path d=\"M 453.15 82.510937 \r\nL 473.15 82.510937 \r\nL 473.15 75.510937 \r\nL 453.15 75.510937 \r\nz\r\n\" style=\"fill:#9467bd;\"/>\r\n    </g>\r\n    <g id=\"text_17\">\r\n     <!-- ephemeroptera -->\r\n     <g transform=\"translate(481.15 82.510937)scale(0.1 -0.1)\">\r\n      <use xlink:href=\"#DejaVuSans-65\"/>\r\n      <use x=\"61.523438\" xlink:href=\"#DejaVuSans-70\"/>\r\n      <use x=\"125\" xlink:href=\"#DejaVuSans-68\"/>\r\n      <use x=\"188.378906\" xlink:href=\"#DejaVuSans-65\"/>\r\n      <use x=\"249.902344\" xlink:href=\"#DejaVuSans-6d\"/>\r\n      <use x=\"347.314453\" xlink:href=\"#DejaVuSans-65\"/>\r\n      <use x=\"408.837891\" xlink:href=\"#DejaVuSans-72\"/>\r\n      <use x=\"447.701172\" xlink:href=\"#DejaVuSans-6f\"/>\r\n      <use x=\"508.882812\" xlink:href=\"#DejaVuSans-70\"/>\r\n      <use x=\"572.359375\" xlink:href=\"#DejaVuSans-74\"/>\r\n      <use x=\"611.568359\" xlink:href=\"#DejaVuSans-65\"/>\r\n      <use x=\"673.091797\" xlink:href=\"#DejaVuSans-72\"/>\r\n      <use x=\"714.205078\" xlink:href=\"#DejaVuSans-61\"/>\r\n     </g>\r\n    </g>\r\n    <g id=\"patch_79\">\r\n     <path d=\"M 453.15 97.189062 \r\nL 473.15 97.189062 \r\nL 473.15 90.189062 \r\nL 453.15 90.189062 \r\nz\r\n\" style=\"fill:#8c564b;\"/>\r\n    </g>\r\n    <g id=\"text_18\">\r\n     <!-- diptera -->\r\n     <g transform=\"translate(481.15 97.189062)scale(0.1 -0.1)\">\r\n      <use xlink:href=\"#DejaVuSans-64\"/>\r\n      <use x=\"63.476562\" xlink:href=\"#DejaVuSans-69\"/>\r\n      <use x=\"91.259766\" xlink:href=\"#DejaVuSans-70\"/>\r\n      <use x=\"154.736328\" xlink:href=\"#DejaVuSans-74\"/>\r\n      <use x=\"193.945312\" xlink:href=\"#DejaVuSans-65\"/>\r\n      <use x=\"255.46875\" xlink:href=\"#DejaVuSans-72\"/>\r\n      <use x=\"296.582031\" xlink:href=\"#DejaVuSans-61\"/>\r\n     </g>\r\n    </g>\r\n    <g id=\"patch_80\">\r\n     <path d=\"M 453.15 111.867187 \r\nL 473.15 111.867187 \r\nL 473.15 104.867187 \r\nL 453.15 104.867187 \r\nz\r\n\" style=\"fill:#e377c2;\"/>\r\n    </g>\r\n    <g id=\"text_19\">\r\n     <!-- odonata -->\r\n     <g transform=\"translate(481.15 111.867187)scale(0.1 -0.1)\">\r\n      <use xlink:href=\"#DejaVuSans-6f\"/>\r\n      <use x=\"61.181641\" xlink:href=\"#DejaVuSans-64\"/>\r\n      <use x=\"124.658203\" xlink:href=\"#DejaVuSans-6f\"/>\r\n      <use x=\"185.839844\" xlink:href=\"#DejaVuSans-6e\"/>\r\n      <use x=\"249.21875\" xlink:href=\"#DejaVuSans-61\"/>\r\n      <use x=\"310.498047\" xlink:href=\"#DejaVuSans-74\"/>\r\n      <use x=\"349.707031\" xlink:href=\"#DejaVuSans-61\"/>\r\n     </g>\r\n    </g>\r\n    <g id=\"patch_81\">\r\n     <path d=\"M 453.15 126.545312 \r\nL 473.15 126.545312 \r\nL 473.15 119.545312 \r\nL 453.15 119.545312 \r\nz\r\n\" style=\"fill:#7f7f7f;\"/>\r\n    </g>\r\n    <g id=\"text_20\">\r\n     <!-- thysanoptera -->\r\n     <g transform=\"translate(481.15 126.545312)scale(0.1 -0.1)\">\r\n      <use xlink:href=\"#DejaVuSans-74\"/>\r\n      <use x=\"39.208984\" xlink:href=\"#DejaVuSans-68\"/>\r\n      <use x=\"102.587891\" xlink:href=\"#DejaVuSans-79\"/>\r\n      <use x=\"161.767578\" xlink:href=\"#DejaVuSans-73\"/>\r\n      <use x=\"213.867188\" xlink:href=\"#DejaVuSans-61\"/>\r\n      <use x=\"275.146484\" xlink:href=\"#DejaVuSans-6e\"/>\r\n      <use x=\"338.525391\" xlink:href=\"#DejaVuSans-6f\"/>\r\n      <use x=\"399.707031\" xlink:href=\"#DejaVuSans-70\"/>\r\n      <use x=\"463.183594\" xlink:href=\"#DejaVuSans-74\"/>\r\n      <use x=\"502.392578\" xlink:href=\"#DejaVuSans-65\"/>\r\n      <use x=\"563.916016\" xlink:href=\"#DejaVuSans-72\"/>\r\n      <use x=\"605.029297\" xlink:href=\"#DejaVuSans-61\"/>\r\n     </g>\r\n    </g>\r\n    <g id=\"patch_82\">\r\n     <path d=\"M 453.15 141.223437 \r\nL 473.15 141.223437 \r\nL 473.15 134.223437 \r\nL 453.15 134.223437 \r\nz\r\n\" style=\"fill:#bcbd22;\"/>\r\n    </g>\r\n    <g id=\"text_21\">\r\n     <!-- psocoptera -->\r\n     <g transform=\"translate(481.15 141.223437)scale(0.1 -0.1)\">\r\n      <use xlink:href=\"#DejaVuSans-70\"/>\r\n      <use x=\"63.476562\" xlink:href=\"#DejaVuSans-73\"/>\r\n      <use x=\"115.576172\" xlink:href=\"#DejaVuSans-6f\"/>\r\n      <use x=\"176.757812\" xlink:href=\"#DejaVuSans-63\"/>\r\n      <use x=\"231.738281\" xlink:href=\"#DejaVuSans-6f\"/>\r\n      <use x=\"292.919922\" xlink:href=\"#DejaVuSans-70\"/>\r\n      <use x=\"356.396484\" xlink:href=\"#DejaVuSans-74\"/>\r\n      <use x=\"395.605469\" xlink:href=\"#DejaVuSans-65\"/>\r\n      <use x=\"457.128906\" xlink:href=\"#DejaVuSans-72\"/>\r\n      <use x=\"498.242188\" xlink:href=\"#DejaVuSans-61\"/>\r\n     </g>\r\n    </g>\r\n    <g id=\"patch_83\">\r\n     <path d=\"M 453.15 155.901562 \r\nL 473.15 155.901562 \r\nL 473.15 148.901562 \r\nL 453.15 148.901562 \r\nz\r\n\" style=\"fill:#17becf;\"/>\r\n    </g>\r\n    <g id=\"text_22\">\r\n     <!-- phthiraptera -->\r\n     <g transform=\"translate(481.15 155.901562)scale(0.1 -0.1)\">\r\n      <use xlink:href=\"#DejaVuSans-70\"/>\r\n      <use x=\"63.476562\" xlink:href=\"#DejaVuSans-68\"/>\r\n      <use x=\"126.855469\" xlink:href=\"#DejaVuSans-74\"/>\r\n      <use x=\"166.064453\" xlink:href=\"#DejaVuSans-68\"/>\r\n      <use x=\"229.443359\" xlink:href=\"#DejaVuSans-69\"/>\r\n      <use x=\"257.226562\" xlink:href=\"#DejaVuSans-72\"/>\r\n      <use x=\"298.339844\" xlink:href=\"#DejaVuSans-61\"/>\r\n      <use x=\"359.619141\" xlink:href=\"#DejaVuSans-70\"/>\r\n      <use x=\"423.095703\" xlink:href=\"#DejaVuSans-74\"/>\r\n      <use x=\"462.304688\" xlink:href=\"#DejaVuSans-65\"/>\r\n      <use x=\"523.828125\" xlink:href=\"#DejaVuSans-72\"/>\r\n      <use x=\"564.941406\" xlink:href=\"#DejaVuSans-61\"/>\r\n     </g>\r\n    </g>\r\n    <g id=\"patch_84\">\r\n     <path d=\"M 453.15 170.579687 \r\nL 473.15 170.579687 \r\nL 473.15 163.579687 \r\nL 453.15 163.579687 \r\nz\r\n\" style=\"fill:#1f77b4;\"/>\r\n    </g>\r\n    <g id=\"text_23\">\r\n     <!-- others -->\r\n     <g transform=\"translate(481.15 170.579687)scale(0.1 -0.1)\">\r\n      <use xlink:href=\"#DejaVuSans-6f\"/>\r\n      <use x=\"61.181641\" xlink:href=\"#DejaVuSans-74\"/>\r\n      <use x=\"100.390625\" xlink:href=\"#DejaVuSans-68\"/>\r\n      <use x=\"163.769531\" xlink:href=\"#DejaVuSans-65\"/>\r\n      <use x=\"225.292969\" xlink:href=\"#DejaVuSans-72\"/>\r\n      <use x=\"266.40625\" xlink:href=\"#DejaVuSans-73\"/>\r\n     </g>\r\n    </g>\r\n   </g>\r\n  </g>\r\n </g>\r\n <defs>\r\n  <clipPath id=\"pb59dbd4999\">\r\n   <rect height=\"152.398214\" width=\"391.775\" x=\"52.375\" y=\"7.2\"/>\r\n  </clipPath>\r\n </defs>\r\n</svg>\r\n",
      "text/plain": "<Figure size 576x216 with 1 Axes>"
     },
     "metadata": {
      "needs_background": "light"
     },
     "output_type": "display_data"
    }
   ],
   "source": [
    "import numpy as np\n",
    "import matplotlib.pyplot as plt\n",
    "%matplotlib inline\n",
    "\n",
    "plt.rcParams[\"figure.figsize\"] = (8,3)\n",
    "\n",
    "fig = plt.figure()\n",
    "ax = order.transpose().plot.bar(stacked=True)\n",
    "plt.legend(loc='upper left', bbox_to_anchor=(1, 1.0))\n",
    "plt.xticks(rotation=45, ha=\"right\")\n",
    "# plt.show()\n",
    "plt.tight_layout()\n",
    "plt.savefig('plots/order_balance.pdf')"
   ]
  }
 ],
 "metadata": {
  "interpreter": {
   "hash": "86a08859f46087af4c4e074af73530229dd7d8037ffe099cb063a6850e6813df"
  },
  "kernelspec": {
   "display_name": "Python 3.7.10 64-bit ('python37': conda)",
   "name": "python3"
  },
  "language_info": {
   "name": "python",
   "version": ""
  },
  "orig_nbformat": 2
 },
 "nbformat": 4,
 "nbformat_minor": 2
}